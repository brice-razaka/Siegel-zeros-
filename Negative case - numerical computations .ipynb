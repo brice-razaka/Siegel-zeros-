{
 "cells": [
  {
   "cell_type": "markdown",
   "metadata": {},
   "source": [
    "### Reciprocal sums of prime powers"
   ]
  },
  {
   "cell_type": "code",
   "execution_count": 429,
   "metadata": {},
   "outputs": [
    {
     "data": {
      "image/png": "[encoded data removed]",
      "text/plain": [
       "<Figure size 432x288 with 1 Axes>"
      ]
     },
     "metadata": {
      "needs_background": "light"
     },
     "output_type": "display_data"
    }
   ],
   "source": [
    "#Comparison of the lower bound of Proposition 1 with the exact error\n",
    "\n",
    "def Error1(x):\n",
    "    return N(sum([1./k for k in [1..x] if is_prime_power(k)]))-log(log(x*1.))-1.034653882\n",
    "\n",
    "def Error2(x):\n",
    "    return -N(1.75/(log(x))^2)\n",
    "\n",
    "x=np.linspace(2,100,num=600)\n",
    "y1=[]\n",
    "y2=[]\n",
    "for l in x:\n",
    "    z1=Error1(l)\n",
    "    y1.append(z1)\n",
    "    z2=Error2(l)\n",
    "    y2.append(z2)\n",
    "plt.ylim(-.65,0)   \n",
    "plt.plot(x,y1,label='Exact error')\n",
    "plt.plot(x,y2,'--' ,color='red',label='-1.75 /(log x)^2')\n",
    "plt.grid()\n",
    "plt.legend()\n",
    "plt.show()\n"
   ]
  },
  {
   "cell_type": "code",
   "execution_count": 401,
   "metadata": {},
   "outputs": [
    {
     "name": "stdout",
     "output_type": "stream",
     "text": [
      "[0, -0.861182042479341]\n"
     ]
    }
   ],
   "source": [
    "# We check here the lower bound  holds for all prime-powers between 2 and 2278383.\n",
    "\n",
    "P=2278421\n",
    "minp=2\n",
    "B2=1.03454778250106                                       # The prime-power constant given by Equation (1)\n",
    "Max=0\n",
    "Min=0\n",
    "SS=N(sum([1./j for j in [2..minp] if is_prime_power(j)])) # The sum of reciprocal of prime-power \n",
    "for k in [minp+1..P]:\n",
    "    EE=SS-log(log(k*1.))-B2                               # This is the quantity \\varepsilon(x)\n",
    "    Max=max(EE, Max)\n",
    "    if is_prime_power(k+1):\n",
    "        SS=SS+1./(k+1)\n",
    "        ee=SS-log(log((k+1)*1.))-B2-1./(k+1)\n",
    "        Min=min(ee, Min)\n",
    "    else:\n",
    "        ee=SS-log(log((k+1)*1.))-B2\n",
    "        Min=min(ee, Min)\n",
    "print([Max, Min])"
   ]
  },
  {
   "cell_type": "code",
   "execution_count": 2,
   "metadata": {},
   "outputs": [
    {
     "name": "stdout",
     "output_type": "stream",
     "text": [
      "[0.0000843723609313951, -0.628595610117759]\n"
     ]
    }
   ],
   "source": [
    "# We check here that the upper bound holds for all prime-powers between 2 and 2278383.\n",
    "\n",
    "B2=1.03454778250106\n",
    "minp=2\n",
    "Sum=N(sum([1./j for j in [2..minp] if is_prime_power(j)]))\n",
    "Max=0\n",
    "Min=0\n",
    "for k in [minp+1..2278383]:\n",
    "    Eps=Sum-log(log(k*1.))-B2\n",
    "    Max=max(Max,Eps) \n",
    "    Min=min(Min,Eps)\n",
    "    if is_prime_power(k):\n",
    "        Sum=Sum+1./k\n",
    "print([Max, Min])"
   ]
  },
  {
   "cell_type": "markdown",
   "metadata": {},
   "source": [
    "### A lower estimate of the integral $I$\n",
    "\n",
    "Let $\\zeta_{Q(\\sqrt{-d})}(s)$ be the Dedekind zeta function of the quadratic fields $Q(\\sqrt{-d})$. We define the integral $I$ as follows\n",
    "$$\n",
    "I = \\frac{1}{2i\\pi} \\int_{2-i\\infty}^{2+i\\infty}\\zeta_{-d}(s+\\beta)\\frac{x^s}{s(s+2)(s+3)}ds.\n",
    "$$\n",
    "By shifting the path integral to $\\textrm{Re}(s)=-\\beta$, we obtain\n",
    "$$\n",
    "I= \\frac{L(1,\\chi)\\, x^{1-\\beta}}{(1-\\beta)(3-\\beta)(4-\\beta)} + J,\n",
    "$$\n",
    "where \n",
    "$$\n",
    "J=\\frac{1}{2i\\pi}\\int_{-\\beta-i\\infty}^{-\\beta+i\\infty}\\zeta(s+\\beta)L(s+\\beta,\\chi)\\frac{x^s}{s(s+2)(s+3)}ds.\n",
    "$$\n",
    "It is clear that in order to estimate $I$, we need to take care of the integral $J$. This is done in the manuscript by means of Lemma 1.4.3. Using the assumption (1.4.1) on the quantity $1-\\beta$, we get"
   ]
  },
  {
   "cell_type": "code",
   "execution_count": 3,
   "metadata": {},
   "outputs": [
    {
     "name": "stdout",
     "output_type": "stream",
     "text": [
      "beta > [0.999650991762275 +/- 3.24e-16]\n",
      "beta^2 > [0.999302105331299 +/- 8.18e-16]\n"
     ]
    }
   ],
   "source": [
    "assump=CBF((1-6.045/sqrt(300000000)))\n",
    "assump2=CBF((1-6.045/sqrt(300000000))^2)\n",
    "print('beta >',assump)\n",
    "print('beta^2 >', assump2)"
   ]
  },
  {
   "cell_type": "markdown",
   "metadata": {},
   "source": [
    "In case we only want to consider the constants in the above cell, we use the suffix $\\texttt{.mid()}$ to access on it. \n",
    "\n",
    "We recall the following bound of the integral $J$:\n",
    "\\begin{equation}\n",
    "|J|\\leq \\frac{x^{-\\beta}}{2\\pi}\\int_{-\\infty}^{\\infty}\\frac{|\\zeta(it)L(it,\\chi)|}{\\sqrt{(0.99930\\ldots+t^2)(1+t^2)(4+t^2)}}dt.\n",
    "\\end{equation}\n",
    "\n",
    "Here is the place where we utilize results on $|\\zeta(1+it)|$ and $|L(it,\\chi)|$ given by Patel and Dudek respectively. To estimate $J$ as above, we write \n",
    "$$\n",
    "|J|\\leq \\frac{x^{-\\beta}}{2\\pi}\\sqrt{d}\\left((J_1+J_3)\\log d+J_3+J_4\\right),\n",
    "$$\n",
    "so that we need to separetely evaluate the integrals $J_i$'s."
   ]
  },
  {
   "cell_type": "markdown",
   "metadata": {},
   "source": [
    "$$\n",
    "J_1=\\frac{1}{\\pi}\\int^{-3}_{3}\\frac{|t\\zeta(1-it)|}{\\sqrt{(0.99930\\ldots+t^2)(1+t^2)(4+t^2)}}dt\n",
    "$$"
   ]
  },
  {
   "cell_type": "code",
   "execution_count": 7,
   "metadata": {},
   "outputs": [
    {
     "data": {
      "text/plain": [
       "[0.1969044276262722 +/- 8.23e-17]"
      ]
     },
     "execution_count": 7,
     "metadata": {},
     "output_type": "execute_result"
    }
   ],
   "source": [
    "#We take the center of the complex ball on the square of the lower bound of \\beta\n",
    "c=assump2.mid()\n",
    "\n",
    "#J1 using complex ball fields\n",
    "J1=CBF(integral(abs(x*zeta(1-I*x))/sqrt((c+x^2)*(1+x^2)*(4+x^2)), x,-3,3)/(2*pi))\n",
    "J1"
   ]
  },
  {
   "cell_type": "markdown",
   "metadata": {},
   "source": [
    "$$\n",
    "J_2=\\frac{1}{2\\pi}\\int^{-3}_{3}\\frac{|t\\zeta(1-it)|\\log(e(|t|+\\tfrac{14}{5}))}{\\sqrt{(0.99930\\ldots+t^2)(1+t^2)(4+t^2)}}dt\n",
    "$$"
   ]
  },
  {
   "cell_type": "code",
   "execution_count": 8,
   "metadata": {},
   "outputs": [
    {
     "data": {
      "text/plain": [
       "[0.451998584922338 +/- 2.98e-16]"
      ]
     },
     "execution_count": 8,
     "metadata": {},
     "output_type": "execute_result"
    }
   ],
   "source": [
    "#J2 using complex ball fields\n",
    "\n",
    "J2=CBF(integral(abs(x*zeta(1-I*x)*log(e*(abs(x)+14/5)))/sqrt((c+x^2)*(1+x^2)*(4+x^2)), x,-3,3)/(2*pi))\n",
    "J2"
   ]
  },
  {
   "cell_type": "markdown",
   "metadata": {},
   "source": [
    "$$\n",
    "J_3=\\frac{0.8}{2\\pi}\\int_{3}^{\\infty}\\frac{t\\log(t)}{\\sqrt{(0.99930\\ldots+t^2)(1+t^2)(4+t^2)}}dt\n",
    "$$"
   ]
  },
  {
   "cell_type": "code",
   "execution_count": 9,
   "metadata": {},
   "outputs": [
    {
     "data": {
      "text/plain": [
       "[0.208819279044738 +/- 6.19e-16]"
      ]
     },
     "execution_count": 9,
     "metadata": {},
     "output_type": "execute_result"
    }
   ],
   "source": [
    "#J3 using complex ball fields\n",
    "\n",
    "J3=CBF(integral(x*log(x)/sqrt((c+x^2)*(1+x^2)*(4+x^2)), x,3,Infinity)*(0.8/sqrt(2*pi)))\n",
    "J3"
   ]
  },
  {
   "cell_type": "markdown",
   "metadata": {},
   "source": [
    "$$\n",
    "J_4=\\frac{0.8}{2\\pi}\\int_{3}^{\\infty}\\frac{t\\log(t)\\log\\left(e(t+\\tfrac{14}{5})\\right)}{\\sqrt{(0.99930\\ldots+t^2)(1+t^2)(4+t^2)}}dt\n",
    "$$"
   ]
  },
  {
   "cell_type": "code",
   "execution_count": 11,
   "metadata": {},
   "outputs": [
    {
     "data": {
      "text/plain": [
       "[0.81813415773022 +/- 5.11e-15]"
      ]
     },
     "execution_count": 11,
     "metadata": {},
     "output_type": "execute_result"
    }
   ],
   "source": [
    "#J4 using complex ball fields\n",
    "\n",
    "J4=CBF(integral((x*log(x)*log(e*(x+14/5)))/sqrt((c+x^2)*(1+x^2)*(4+x^2)), x,3,Infinity)*(0.8/sqrt(2*pi)))\n",
    "J4"
   ]
  },
  {
   "cell_type": "code",
   "execution_count": 263,
   "metadata": {},
   "outputs": [
    {
     "name": "stdout",
     "output_type": "stream",
     "text": [
      "J1+J3 is equal to [0.405723706671010 +/- 5.01e-16]\n",
      "J2+J4 is equal to [1.27013274265256 +/- 3.52e-15]\n"
     ]
    }
   ],
   "source": [
    "#The coefficients in (1.4.13)\n",
    "J1J3=J1+J3\n",
    "J2J4=J2+J4\n",
    "print('J1+J3 is equal to',J1J3)\n",
    "print('J2+J4 is equal to',J2J4)"
   ]
  },
  {
   "cell_type": "code",
   "execution_count": 264,
   "metadata": {},
   "outputs": [
    {
     "data": {
      "text/plain": [
       "[0.074929246251142 +/- 1.51e-16]"
      ]
     },
     "execution_count": 264,
     "metadata": {},
     "output_type": "execute_result"
    }
   ],
   "source": [
    "#The constant terms in the upper bound of J\n",
    "upperJ=CBF((J1J3+J2J4/log(300000000))/(2*pi)); upperJ"
   ]
  },
  {
   "cell_type": "code",
   "execution_count": 271,
   "metadata": {},
   "outputs": [
    {
     "data": {
      "text/plain": [
       "[0.149858492502284 +/- 3.02e-16]"
      ]
     },
     "execution_count": 271,
     "metadata": {},
     "output_type": "execute_result"
    }
   ],
   "source": [
    "upperJ2=CBF(2*upperJ); upperJ2"
   ]
  },
  {
   "cell_type": "markdown",
   "metadata": {},
   "source": [
    "### Finding the upper bound\n",
    "\n",
    "$\\textbf{Case 1}$"
   ]
  },
  {
   "cell_type": "code",
   "execution_count": 4,
   "metadata": {},
   "outputs": [
    {
     "data": {
      "text/plain": [
       "[0.52344652568052 +/- 1.06e-15]"
      ]
     },
     "execution_count": 4,
     "metadata": {},
     "output_type": "execute_result"
    }
   ],
   "source": [
    "p_b=CBF(pi/((3-assump)*(4-assump))); p_b"
   ]
  },
  {
   "cell_type": "code",
   "execution_count": 277,
   "metadata": {},
   "outputs": [
    {
     "data": {
      "text/plain": [
       "[21.0023437359462 +/- 9.38e-14]"
      ]
     },
     "execution_count": 277,
     "metadata": {},
     "output_type": "execute_result"
    }
   ],
   "source": [
    "t1=CBF((396*p_b)/pi^2); t1"
   ]
  },
  {
   "cell_type": "code",
   "execution_count": 278,
   "metadata": {},
   "outputs": [
    {
     "data": {
      "text/plain": [
       "[0.359875044394500 +/- 5.80e-16]"
      ]
     },
     "execution_count": 278,
     "metadata": {},
     "output_type": "execute_result"
    }
   ],
   "source": [
    "t2=CBF((396*upperJ2.mid()*6.045)/(pi^2*101)); t2"
   ]
  },
  {
   "cell_type": "code",
   "execution_count": 283,
   "metadata": {},
   "outputs": [
    {
     "data": {
      "text/plain": [
       "[0.0224921902746563 +/- 4.90e-17]"
      ]
     },
     "execution_count": 283,
     "metadata": {},
     "output_type": "execute_result"
    }
   ],
   "source": [
    "t22=CBF((396*2*upperJ.mid()*6.045)/(pi^2*101*16)); t22"
   ]
  },
  {
   "cell_type": "code",
   "execution_count": 450,
   "metadata": {},
   "outputs": [
    {
     "data": {
      "text/plain": [
       "[6.967217004560640 +/- 3.63e-16]"
      ]
     },
     "execution_count": 450,
     "metadata": {},
     "output_type": "execute_result"
    }
   ],
   "source": [
    "CBF(t1.mid()-39*t2.mid())"
   ]
  },
  {
   "cell_type": "markdown",
   "metadata": {},
   "source": [
    " $\\textbf{Case 2}$"
   ]
  },
  {
   "cell_type": "code",
   "execution_count": 439,
   "metadata": {},
   "outputs": [],
   "source": [
    "#We here numerically estimate the right hand side terms in (1.4.26)\n",
    "\n",
    "#declaring variables\n",
    "var('fd,ld,logd,C')\n",
    "\n",
    "#defining the function k_0\n",
    "K0(logd,ld)=ceil(.5*(logd-log(4.))/log(ld*1.))\n",
    "\n",
    "#defining the sigma function\n",
    "def Sigma(ld):\n",
    "    return CBF(2*sum([1./k for k in [1..ld] if is_prime_power(k)]))\n",
    "\n",
    "#first error in Er(d,l(d))\n",
    "def Err0(ld):\n",
    "    return CBF(3.6/log(ld)^2)\n",
    "\n",
    "#second error in Er(d,l(d)) (checking condition)\n",
    "def Err1(logd,ld):\n",
    "    s=Sigma(ld).mid()\n",
    "    k=K0(logd,ld)\n",
    "    if s>k:\n",
    "        return -1\n",
    "    else:    \n",
    "        return CBF(s^k/(factorial(k))*(1+k)/(1+k-s)*11/101)\n",
    "\n",
    "\n",
    "#defining the function to be optimized\n",
    "def OptF(C,logd,fd,ld):\n",
    "    #checking conditions\n",
    "    if Err1(logd,ld).mid()<0 or fd>ld or fd<1:\n",
    "        return -1\n",
    "    else:\n",
    "        return CBF((21.002-0.059*C*logd/fd)/(1+2*log(1+log(fd)/log(ld))+Err0(ld)+Err1(logd,ld)))\n",
    "    "
   ]
  },
  {
   "cell_type": "code",
   "execution_count": 244,
   "metadata": {},
   "outputs": [
    {
     "data": {
      "text/plain": [
       "[6.58390131368521 +/- 7.04e-15]"
      ]
     },
     "execution_count": 244,
     "metadata": {},
     "output_type": "execute_result"
    }
   ],
   "source": [
    "OptF(6.045,41,16,16)"
   ]
  },
  {
   "cell_type": "code",
   "execution_count": 245,
   "metadata": {},
   "outputs": [
    {
     "name": "stdout",
     "output_type": "stream",
     "text": [
      "k0= 3 Sigma= [3.785267510267510 +/- 2.62e-16] exposigma= [10.28942388901658 +/- 5.82e-15]\n"
     ]
    }
   ],
   "source": [
    "print('k0=',K0(16,16),'Sigma=', Sigma(16),'exposigma=',CBF(e*Sigma(16)))"
   ]
  },
  {
   "cell_type": "code",
   "execution_count": 246,
   "metadata": {},
   "outputs": [
    {
     "name": "stdout",
     "output_type": "stream",
     "text": [
      "[0.468308020726262 +/- 8.15e-16] -1\n"
     ]
    }
   ],
   "source": [
    "print(Err0(16), Err1(16,16))"
   ]
  },
  {
   "cell_type": "code",
   "execution_count": 288,
   "metadata": {},
   "outputs": [
    {
     "data": {
      "text/plain": [
       "[2.85460238184615 +/- 3.50e-15]"
      ]
     },
     "execution_count": 288,
     "metadata": {},
     "output_type": "execute_result"
    }
   ],
   "source": [
    "CBF(1+2*log(2))+Err0(16)"
   ]
  },
  {
   "cell_type": "code",
   "execution_count": 285,
   "metadata": {},
   "outputs": [
    {
     "data": {
      "text/plain": [
       "[0.0434491592516412 +/- 6.73e-17]"
      ]
     },
     "execution_count": 285,
     "metadata": {},
     "output_type": "execute_result"
    }
   ],
   "source": [
    "CBF(11/(101*sqrt(2*pi)))"
   ]
  },
  {
   "cell_type": "code",
   "execution_count": 330,
   "metadata": {},
   "outputs": [],
   "source": [
    "def plot_case2(t):\n",
    "    k=K0(t,16)\n",
    "    D2=0.04344*(1+k)/(1+k-3.78526)*(10.28942/k)^k/sqrt(k)\n",
    "    return N((21.00234-0.02249*t)/(2.85460+D2))"
   ]
  },
  {
   "cell_type": "code",
   "execution_count": 333,
   "metadata": {},
   "outputs": [
    {
     "data": {
      "image/png": "[encoded data removed]",
      "text/plain": [
       "<Figure size 432x288 with 1 Axes>"
      ]
     },
     "metadata": {
      "needs_background": "light"
     },
     "output_type": "display_data"
    }
   ],
   "source": [
    "Num=1000\n",
    "x=np.linspace(35,160,num=Num)\n",
    "y=[]\n",
    "for t in x:\n",
    "    z=plot_case2(t)\n",
    "    y.append(z)\n",
    "w=6.045*np.ones(Num)\n",
    "plt.plot(x,y)\n",
    "plt.plot(x,w,'-',color='red')\n",
    "plt.ylabel('terms in RHD')\n",
    "plt.xlabel('log d')\n",
    "plt.grid()\n",
    "plt.show()"
   ]
  },
  {
   "cell_type": "markdown",
   "metadata": {},
   "source": [
    "$\\textbf{Case 3}$"
   ]
  },
  {
   "cell_type": "code",
   "execution_count": 336,
   "metadata": {},
   "outputs": [
    {
     "data": {
      "text/plain": [
       "[39.65342640972003 +/- 3.59e-15]"
      ]
     },
     "execution_count": 336,
     "metadata": {},
     "output_type": "execute_result"
    }
   ],
   "source": [
    "lowert=CBF(.25*(160-log(4.))); lowert"
   ]
  },
  {
   "cell_type": "code",
   "execution_count": 339,
   "metadata": {},
   "outputs": [
    {
     "data": {
      "text/plain": [
       "[21.54973661476796 +/- 7.62e-15]"
      ]
     },
     "execution_count": 339,
     "metadata": {},
     "output_type": "execute_result"
    }
   ],
   "source": [
    "CBF((2*lowert)/log(lowert))"
   ]
  },
  {
   "cell_type": "code",
   "execution_count": 358,
   "metadata": {},
   "outputs": [
    {
     "data": {
      "text/plain": [
       "[2.069500000000000 +/- 1.18e-16]"
      ]
     },
     "execution_count": 358,
     "metadata": {},
     "output_type": "execute_result"
    }
   ],
   "source": [
    "err=CBF(2*(1.03465+min(0.2/(log(39))^3,0.0001))); err"
   ]
  },
  {
   "cell_type": "code",
   "execution_count": 445,
   "metadata": {},
   "outputs": [
    {
     "data": {
      "image/png": "[encoded data removed]",
      "text/plain": [
       "Graphics object consisting of 1 graphics primitive"
      ]
     },
     "execution_count": 445,
     "metadata": {},
     "output_type": "execute_result"
    }
   ],
   "source": [
    "var('t')\n",
    "plot(log(t)*(log(log(t))+1.034)/t, (t, 39, 160), figsize=[5,3])"
   ]
  },
  {
   "cell_type": "code",
   "execution_count": 363,
   "metadata": {},
   "outputs": [
    {
     "data": {
      "text/plain": [
       "[0.58975729501161 +/- 4.00e-15]"
      ]
     },
     "execution_count": 363,
     "metadata": {},
     "output_type": "execute_result"
    }
   ],
   "source": [
    "upperesk0=CBF((e*log(lowert)*(2*log(log(lowert))+err))/(2*lowert)); upperesk0"
   ]
  },
  {
   "cell_type": "code",
   "execution_count": 365,
   "metadata": {},
   "outputs": [
    {
     "data": {
      "text/plain": [
       "[1.27707328985136 +/- 1.72e-15]"
      ]
     },
     "execution_count": 365,
     "metadata": {},
     "output_type": "execute_result"
    }
   ],
   "source": [
    "upks=CBF(1/(1-(upperesk0/e))); upks"
   ]
  },
  {
   "cell_type": "code",
   "execution_count": 366,
   "metadata": {},
   "outputs": [
    {
     "data": {
      "text/plain": [
       "[1.0661024311415e-7 +/- 2.91e-21]"
      ]
     },
     "execution_count": 366,
     "metadata": {},
     "output_type": "execute_result"
    }
   ],
   "source": [
    "CBF((11/101)*(upks/sqrt(2*pi*22)*upperesk0^22))"
   ]
  },
  {
   "cell_type": "code",
   "execution_count": 373,
   "metadata": {},
   "outputs": [
    {
     "data": {
      "text/plain": [
       "[2.652100497030378 +/- 7.84e-16]"
      ]
     },
     "execution_count": 373,
     "metadata": {},
     "output_type": "execute_result"
    }
   ],
   "source": [
    "denom=CBF(1+2*log(2)+3.6/(log(lowert.mid()))^2); denom"
   ]
  },
  {
   "cell_type": "code",
   "execution_count": 372,
   "metadata": {},
   "outputs": [
    {
     "name": "stdout",
     "output_type": "stream",
     "text": [
      "[21.0023437359462 +/- 9.38e-14] and [0.359875044394500 +/- 5.80e-16]\n"
     ]
    }
   ],
   "source": [
    "print(t1,'and',t2)"
   ]
  },
  {
   "cell_type": "code",
   "execution_count": 375,
   "metadata": {},
   "outputs": [
    {
     "name": "stdout",
     "output_type": "stream",
     "text": [
      "[7.9191357037424 +/- 5.11e-14] and [0.135694346725345 +/- 2.81e-16]\n"
     ]
    }
   ],
   "source": [
    "print(CBF(t1/denom),'and',CBF(t2/denom))"
   ]
  },
  {
   "cell_type": "code",
   "execution_count": 385,
   "metadata": {},
   "outputs": [
    {
     "data": {
      "text/plain": [
       "[7.3716144062957 +/- 3.92e-14]"
      ]
     },
     "execution_count": 385,
     "metadata": {},
     "output_type": "execute_result"
    }
   ],
   "source": [
    "CBF((t1/denom)-(t2/denom)*(CBF(4)*lowert+CBF(log(4)))/lowert)"
   ]
  },
  {
   "cell_type": "code",
   "execution_count": null,
   "metadata": {},
   "outputs": [],
   "source": []
  }
 ],
 "metadata": {
  "kernelspec": {
   "display_name": "SageMath 9.3",
   "language": "sage",
   "name": "sagemath"
  },
  "language_info": {
   "codemirror_mode": {
    "name": "ipython",
    "version": 3
   },
   "file_extension": ".py",
   "mimetype": "text/x-python",
   "name": "python",
   "nbconvert_exporter": "python",
   "pygments_lexer": "ipython3",
   "version": "3.7.10"
  }
 },
 "nbformat": 4,
 "nbformat_minor": 2
}
