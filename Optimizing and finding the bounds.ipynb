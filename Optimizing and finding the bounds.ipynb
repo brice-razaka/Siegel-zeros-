{
 "cells": [
  {
   "cell_type": "code",
   "execution_count": 18,
   "metadata": {},
   "outputs": [],
   "source": [
    "#importing useful libraries\n",
    "from ipywidgets import *\n",
    "import numpy as np \n",
    "import matplotlib.pyplot as plt"
   ]
  },
  {
   "cell_type": "code",
   "execution_count": 19,
   "metadata": {},
   "outputs": [],
   "source": [
    "#OPTIMIZATION IN THE CASE OF IMAGINARY QUADRATIC FIELDS\n",
    "\n",
    "#declaring variables\n",
    "var('fd,ld,logd,C')\n",
    "\n",
    "#defining simple functions\n",
    "K0(logd,ld)=ceil(.5*(logd-log(4.))/log(ld*1.))\n",
    "\n",
    "#defining the sigma function\n",
    "def Sigma(ld):\n",
    "    return N(2*sum([1./k for k in [1..ld] if is_prime_power(k)]))\n",
    "\n",
    "#first error in Er function\n",
    "def Err0(ld):\n",
    "    return N(3.6/log(ld)^2)\n",
    "\n",
    "#second error in Er function, checking condition\n",
    "def Err1(logd,ld):\n",
    "    s=Sigma(ld)\n",
    "    k=K0(logd,ld)\n",
    "    if s>k:\n",
    "        return -1\n",
    "    else:    \n",
    "        return s^k/(factorial(k))*(1+k)/(1+k-s)*11/101\n",
    "    \n",
    "#defining function to be optimized\n",
    "def OptF(C,logd,fd,ld):\n",
    "    #checking conditions\n",
    "    if Err1(logd,ld)<0 or fd>ld or fd<1:\n",
    "        return -1\n",
    "    else:\n",
    "        return N((21.003-0.061*C*logd/fd)/(1+2*log(1+log(fd)/log(ld))+Err0(ld)+Err1(logd,ld)))\n",
    "    \n",
    "#plot wrt logd\n",
    "def pltLogd(ld):\n",
    "    Num=1000\n",
    "    x=np.linspace(35,160,num=Num)\n",
    "    y=[]\n",
    "    for lg in x:\n",
    "        z=OptF(6.035,lg,ld,ld)\n",
    "        y.append(z)\n",
    "    w=6.035*np.ones(Num)\n",
    "    plt.plot(x,y)\n",
    "    plt.plot(x,w,color='red')\n",
    "    plt.grid()\n",
    "    plt.show()    \n",
    "    \n",
    "def Choice(Select={\"None\":-1, \"Logarithmed\":1}):\n",
    "    if Select == -1:\n",
    "        print(\"You chose None\")\n",
    "        plt.plot(1,1)\n",
    "        plt.grid()\n",
    "        plt.show()\n",
    "    if Select == 1:\n",
    "        interact(pltLogd,ld=(5,50,1))    "
   ]
  },
  {
   "cell_type": "code",
   "execution_count": 20,
   "metadata": {},
   "outputs": [
    {
     "data": {
      "application/vnd.jupyter.widget-view+json": {
       "model_id": "431fe3e75d7f4553874bb47bc4e287d8",
       "version_major": 2,
       "version_minor": 0
      },
      "text/plain": [
       "interactive(children=(Dropdown(description='Select', options={'None': -1, 'Logarithmed': 1}, value=-1), Output…"
      ]
     },
     "metadata": {},
     "output_type": "display_data"
    },
    {
     "data": {
      "text/plain": [
       "<function Choice at 0x6fff3dbcdd40>"
      ]
     },
     "execution_count": 20,
     "metadata": {},
     "output_type": "execute_result"
    }
   ],
   "source": [
    "interact(Choice)"
   ]
  },
  {
   "cell_type": "code",
   "execution_count": 22,
   "metadata": {},
   "outputs": [],
   "source": [
    "#OPTIMIZATION IN THE CASE OF REAL QUADRATIC FIELDS\n",
    "\n",
    "#declaring variables\n",
    "var('fdp,ldp,logdp,Cp')\n",
    "\n",
    "#defining simple functions\n",
    "K0_pos(logdp,ldp)=ceil((.5*logdp-log(4.))/log(ldp*1.))\n",
    "\n",
    "#defining the sigma function\n",
    "def Sigma_pos(ldp):\n",
    "    return N(2*sum([1./k for k in [1..ldp] if is_prime_power(k)]))\n",
    "\n",
    "#first error in Er function\n",
    "def Err0_pos(ldp):\n",
    "    return N(3.6/log(ldp)^2)\n",
    "\n",
    "#second error in Er function, checking condition\n",
    "def Err1_pos(logdp,ldp):\n",
    "    sp=Sigma_pos(ldp)\n",
    "    kp=K0_pos(logdp,ldp)\n",
    "    if sp>kp:\n",
    "        return -1\n",
    "    else:    \n",
    "        return (sp^kp/(factorial(kp))*(1+kp)/(1+kp-sp))*1.998\n",
    "    \n",
    "#defining function to be optimized\n",
    "def OptF_pos(Cp,logdp2,fdp,ldp):\n",
    "    #checking conditions\n",
    "    if Err1_pos(sqrt(logdp2),ldp)<0 or fdp>ldp or fdp<1:\n",
    "        return -1\n",
    "    else:\n",
    "        return N((1.077-0.157*Cp*(logdp2)/fdp)/(1+2*log(1+log(fdp)/log(ldp))+Err0_pos(ldp)+Err1_pos(sqrt(logdp2),ldp)))\n",
    "    \n",
    "#plot wrt logd\n",
    "def pltLogd_pos(ldp):\n",
    "    Num=1000\n",
    "    x=np.linspace(103000,2000000,num=Num)\n",
    "    y=[]\n",
    "    for lg in x:\n",
    "        z=OptF_pos(0.102,lg,ldp,ldp)\n",
    "        y.append(z)\n",
    "    w=0.102*np.ones(Num)\n",
    "    plt.plot(x,y)\n",
    "    plt.plot(x,w,color='red')\n",
    "    plt.grid()\n",
    "    plt.show()    \n",
    "    \n",
    "def Choice_pos(Select={\"None\":-1, \"Logarithm_squared\":1}):\n",
    "    if Select == -1:\n",
    "        print(\"You chose None\")\n",
    "        plt.plot(1,1)\n",
    "        plt.grid()\n",
    "        plt.show()\n",
    "    if Select == 1:\n",
    "        interact(pltLogd_pos,ldp=(39900,40500,1))    \n",
    "    "
   ]
  },
  {
   "cell_type": "code",
   "execution_count": 23,
   "metadata": {
    "scrolled": true
   },
   "outputs": [
    {
     "data": {
      "application/vnd.jupyter.widget-view+json": {
       "model_id": "ed3b1687f38a4c0b82bc92b20177dd06",
       "version_major": 2,
       "version_minor": 0
      },
      "text/plain": [
       "interactive(children=(Dropdown(description='Select', options={'None': -1, 'Logarithm_squared': 1}, value=-1), …"
      ]
     },
     "metadata": {},
     "output_type": "display_data"
    },
    {
     "data": {
      "text/plain": [
       "<function Choice_pos at 0x6fff3b60e5f0>"
      ]
     },
     "execution_count": 23,
     "metadata": {},
     "output_type": "execute_result"
    }
   ],
   "source": [
    "interact(Choice_pos)"
   ]
  },
  {
   "cell_type": "code",
   "execution_count": null,
   "metadata": {},
   "outputs": [],
   "source": []
  }
 ],
 "metadata": {
  "celltoolbar": "Aucun(e)",
  "kernelspec": {
   "display_name": "SageMath 9.3",
   "language": "sage",
   "name": "sagemath"
  },
  "language_info": {
   "codemirror_mode": {
    "name": "ipython",
    "version": 3
   },
   "file_extension": ".py",
   "mimetype": "text/x-python",
   "name": "python",
   "nbconvert_exporter": "python",
   "pygments_lexer": "ipython3",
   "version": "3.7.10"
  }
 },
 "nbformat": 4,
 "nbformat_minor": 4
}
