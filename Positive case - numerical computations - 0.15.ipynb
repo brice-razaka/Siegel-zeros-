{
 "cells": [
  {
   "cell_type": "markdown",
   "metadata": {},
   "source": [
    "In the case of real quadratic fields, our assumption is $1-\\beta\\leq \\frac{0.15\\log d}{\\sqrt{d}}$ and $d\\geq 400000$."
   ]
  },
  {
   "cell_type": "code",
   "execution_count": 1,
   "metadata": {},
   "outputs": [
    {
     "name": "stdout",
     "output_type": "stream",
     "text": [
      "beta > 0.996940681398277\n"
     ]
    }
   ],
   "source": [
    "print('beta >', n(1-0.15*log(400000)/sqrt(400000)))"
   ]
  },
  {
   "cell_type": "markdown",
   "metadata": {},
   "source": [
    "We round this up to the third digit, i.e. $\\beta>0.996$."
   ]
  },
  {
   "cell_type": "code",
   "execution_count": 2,
   "metadata": {},
   "outputs": [
    {
     "name": "stdout",
     "output_type": "stream",
     "text": [
      "beta^2 > 0.992016000000000\n",
      "(3-beta)(4-beta)< 6.02001600000000\n"
     ]
    }
   ],
   "source": [
    "assump=0.996\n",
    "assump2=assump^2\n",
    "assump34=(3-assump)*(4-assump)\n",
    "\n",
    "print('beta^2 >', assump2)\n",
    "print('(3-beta)(4-beta)<', assump34)"
   ]
  },
  {
   "cell_type": "code",
   "execution_count": 3,
   "metadata": {},
   "outputs": [
    {
     "name": "stdout",
     "output_type": "stream",
     "text": [
      "1.00801600000000 and 4.01601600000000\n"
     ]
    }
   ],
   "source": [
    "c1=N((2-assump)^2)\n",
    "c2=N((3-assump)^2)\n",
    "\n",
    "print(c1,'and',c2)"
   ]
  },
  {
   "cell_type": "code",
   "execution_count": 4,
   "metadata": {},
   "outputs": [
    {
     "data": {
      "text/plain": [
       "0.196545821637456"
      ]
     },
     "execution_count": 4,
     "metadata": {},
     "output_type": "execute_result"
    }
   ],
   "source": [
    "#J1\n",
    "c0=0.992\n",
    "\n",
    "J1=N(integral(abs(x*zeta(1-I*x))/sqrt((c0+x**2)*(c1+x**2)*(c2+x**2)), x, -3, 3)/(2*pi)); J1"
   ]
  },
  {
   "cell_type": "code",
   "execution_count": 5,
   "metadata": {},
   "outputs": [
    {
     "data": {
      "text/plain": [
       "0.451193447476492"
      ]
     },
     "execution_count": 5,
     "metadata": {},
     "output_type": "execute_result"
    }
   ],
   "source": [
    "J2=N(integral(abs(x*zeta(1-I*x)*log(e*(abs(x)+14/5)))/sqrt((c0+x^2)*(c1+x^2)*(c2+x^2)), x,-3,3)/(2*pi));J2"
   ]
  },
  {
   "cell_type": "code",
   "execution_count": 6,
   "metadata": {},
   "outputs": [
    {
     "data": {
      "text/plain": [
       "0.208786149178279"
      ]
     },
     "execution_count": 6,
     "metadata": {},
     "output_type": "execute_result"
    }
   ],
   "source": [
    "J3=N(integral(x*log(x)/sqrt((c0+x^2)*(c1+x^2)*(c2+x^2)), x,3,Infinity)*(0.8/sqrt(2*pi)));J3"
   ]
  },
  {
   "cell_type": "code",
   "execution_count": 7,
   "metadata": {},
   "outputs": [
    {
     "data": {
      "text/plain": [
       "0.818033034629299"
      ]
     },
     "execution_count": 7,
     "metadata": {},
     "output_type": "execute_result"
    }
   ],
   "source": [
    "J4=N(integral((x*log(x)*log(e*(x+14/5)))/sqrt((c0+x^2)*(c1+x^2)*(c2+x^2)), x,3,Infinity)*(0.8/sqrt(2*pi)));J4"
   ]
  },
  {
   "cell_type": "code",
   "execution_count": 8,
   "metadata": {
    "scrolled": true
   },
   "outputs": [
    {
     "name": "stdout",
     "output_type": "stream",
     "text": [
      "J1+J3 is equal to 0.405331970815734\n",
      "J2+J4 is equal to 1.26922648210579\n"
     ]
    }
   ],
   "source": [
    "J1J3=J1+J3\n",
    "J2J4=J2+J4\n",
    "print('J1+J3 is equal to',J1J3)\n",
    "print('J2+J4 is equal to',J2J4)"
   ]
  },
  {
   "cell_type": "code",
   "execution_count": 9,
   "metadata": {},
   "outputs": [
    {
     "data": {
      "text/plain": [
       "0.0801707329630602"
      ]
     },
     "execution_count": 9,
     "metadata": {},
     "output_type": "execute_result"
    }
   ],
   "source": [
    "upperJ=N((J1J3+(J2J4/log(400000)))/(2*pi)); upperJ"
   ]
  },
  {
   "cell_type": "code",
   "execution_count": 10,
   "metadata": {},
   "outputs": [],
   "source": [
    "def Sigma(l):\n",
    "    return 2*sum([1./k for k in [1..l] if is_prime_power(k)])"
   ]
  },
  {
   "cell_type": "code",
   "execution_count": 11,
   "metadata": {},
   "outputs": [],
   "source": [
    "def Err0(l):\n",
    "    return 3.6/log(l)^2"
   ]
  },
  {
   "cell_type": "markdown",
   "metadata": {},
   "source": [
    "$\\textbf{Case 1}$"
   ]
  },
  {
   "cell_type": "code",
   "execution_count": 15,
   "metadata": {},
   "outputs": [
    {
     "data": {
      "text/plain": [
       "5.75646273248511"
      ]
     },
     "execution_count": 15,
     "metadata": {},
     "output_type": "execute_result"
    }
   ],
   "source": [
    "N(log(sqrt(400000)/2))"
   ]
  },
  {
   "cell_type": "code",
   "execution_count": 16,
   "metadata": {},
   "outputs": [
    {
     "data": {
      "text/plain": [
       "0.307602670500618"
      ]
     },
     "execution_count": 16,
     "metadata": {},
     "output_type": "execute_result"
    }
   ],
   "source": [
    "N(pi^2*1.122/36)"
   ]
  },
  {
   "cell_type": "code",
   "execution_count": 12,
   "metadata": {},
   "outputs": [
    {
     "name": "stdout",
     "output_type": "stream",
     "text": [
      "1.07847641479928 and 0.0271328618008065\n"
     ]
    }
   ],
   "source": [
    "t1=N(2/(0.308*6.021))\n",
    "t2=N((4*upperJ*0.15)/(0.308*5.756))\n",
    "print(t1,'and',t2)"
   ]
  },
  {
   "cell_type": "code",
   "execution_count": 514,
   "metadata": {},
   "outputs": [
    {
     "data": {
      "text/plain": [
       "0.686000000000000"
      ]
     },
     "execution_count": 514,
     "metadata": {},
     "output_type": "execute_result"
    }
   ],
   "source": [
    "1.078-0.028*14"
   ]
  },
  {
   "cell_type": "code",
   "execution_count": 584,
   "metadata": {},
   "outputs": [
    {
     "name": "stdout",
     "output_type": "stream",
     "text": [
      "Sigma= 1.66666666666667 esigma= 4.53046971409841\n"
     ]
    }
   ],
   "source": [
    "print('Sigma=', Sigma(3),'esigma=',N(e*Sigma(3)))"
   ]
  },
  {
   "cell_type": "code",
   "execution_count": 4,
   "metadata": {},
   "outputs": [
    {
     "data": {
      "text/plain": [
       "5.36902198000469"
      ]
     },
     "execution_count": 4,
     "metadata": {},
     "output_type": "execute_result"
    }
   ],
   "source": [
    "n(1+2*log(2)+Err0(3))"
   ]
  },
  {
   "cell_type": "code",
   "execution_count": 5,
   "metadata": {},
   "outputs": [
    {
     "name": "stdout",
     "output_type": "stream",
     "text": [
      "5 and 4.60882843215200\n"
     ]
    }
   ],
   "source": [
    "k=N((.5*log(400000)-log(4))/log(3))\n",
    "print(ceil(k), 'and', k)"
   ]
  },
  {
   "cell_type": "code",
   "execution_count": 16,
   "metadata": {},
   "outputs": [
    {
     "data": {
      "text/plain": [
       "0.488381145712141"
      ]
     },
     "execution_count": 16,
     "metadata": {},
     "output_type": "execute_result"
    }
   ],
   "source": [
    "D2=N((1.998/sqrt(2*pi))*((1+k)/(1+k-Sigma(3)))*(4.531/k)^k/sqrt(k)); D2"
   ]
  },
  {
   "cell_type": "code",
   "execution_count": 40,
   "metadata": {},
   "outputs": [
    {
     "data": {
      "text/plain": [
       "0.184009878017071"
      ]
     },
     "execution_count": 40,
     "metadata": {},
     "output_type": "execute_result"
    }
   ],
   "source": [
    "N(1.078/(5.37+D2))"
   ]
  },
  {
   "cell_type": "markdown",
   "metadata": {},
   "source": [
    "ito no izy @le case 1"
   ]
  },
  {
   "cell_type": "code",
   "execution_count": 41,
   "metadata": {},
   "outputs": [
    {
     "data": {
      "text/plain": [
       "0.0318631823406184"
      ]
     },
     "execution_count": 41,
     "metadata": {},
     "output_type": "execute_result"
    }
   ],
   "source": [
    "N(0.028/((5.37+D2)*3))*20"
   ]
  },
  {
   "cell_type": "code",
   "execution_count": 43,
   "metadata": {},
   "outputs": [
    {
     "data": {
      "text/plain": [
       "0.152000000000000"
      ]
     },
     "execution_count": 43,
     "metadata": {},
     "output_type": "execute_result"
    }
   ],
   "source": [
    "0.184-0.032"
   ]
  },
  {
   "cell_type": "markdown",
   "metadata": {},
   "source": [
    "$\\textbf{Case 2}$"
   ]
  },
  {
   "cell_type": "code",
   "execution_count": 289,
   "metadata": {},
   "outputs": [
    {
     "name": "stdout",
     "output_type": "stream",
     "text": [
      "Sigma= 7.32067939395415 esigma= 19.8996697685601\n"
     ]
    }
   ],
   "source": [
    "print('Sigma=', Sigma(1000000),'esigma=',N(e*Sigma(1000000)))"
   ]
  },
  {
   "cell_type": "code",
   "execution_count": 290,
   "metadata": {},
   "outputs": [
    {
     "data": {
      "text/plain": [
       "1.01886116970116"
      ]
     },
     "execution_count": 290,
     "metadata": {},
     "output_type": "execute_result"
    }
   ],
   "source": [
    "n(1+2*log(1+log(1)/log(1000000))+Err0(1000000))"
   ]
  },
  {
   "cell_type": "code",
   "execution_count": null,
   "metadata": {
    "scrolled": true
   },
   "outputs": [],
   "source": [
    "import numpy as np\n",
    "import matplotlib.pyplot as plt\n",
    "\n",
    "def poscase2(t):\n",
    "    k=ceil((sqrt(t)-log(16))/(2*log(1000000)))\n",
    "    D2=(1.998/sqrt(2*pi))*((1+k)/(1+k-Sigma(1000000)))*(19.9/k)^k/sqrt(k)\n",
    "    return N((1.078-(0.028/1)*t)/(1.019+D2))\n",
    "\n",
    "Num=1000\n",
    "#x=np.linspace(80,19800,num=Num) mamoka azy tsara!\n",
    "x=np.linspace(24,19800,num=Num)\n",
    "y=[]\n",
    "for t in x:\n",
    "    z=poscase2(t)\n",
    "    y.append(z)\n",
    "w=0.15*np.ones(Num)\n",
    "plt.plot(x,y)\n",
    "plt.plot(x,w,'-',color='red')\n",
    "plt.ylabel('terms in RHD')\n",
    "plt.xlabel('(log d)^2')\n",
    "plt.grid()\n",
    "plt.show()"
   ]
  },
  {
   "cell_type": "markdown",
   "metadata": {},
   "source": [
    "$\\textbf{Case 3}$"
   ]
  },
  {
   "cell_type": "code",
   "execution_count": 48,
   "metadata": {},
   "outputs": [
    {
     "name": "stdout",
     "output_type": "stream",
     "text": [
      "Sigma= 7.13803282566320 esigma= 19.4031849209445\n"
     ]
    }
   ],
   "source": [
    "print('Sigma=', Sigma(300000),'esigma=',N(e*Sigma(300000)))"
   ]
  },
  {
   "cell_type": "code",
   "execution_count": 55,
   "metadata": {},
   "outputs": [
    {
     "data": {
      "text/plain": [
       "0.0226342658266760"
      ]
     },
     "execution_count": 55,
     "metadata": {},
     "output_type": "execute_result"
    }
   ],
   "source": [
    "N(Err0(300000))"
   ]
  },
  {
   "cell_type": "code",
   "execution_count": 52,
   "metadata": {},
   "outputs": [
    {
     "data": {
      "text/plain": [
       "1.74887690524614"
      ]
     },
     "execution_count": 52,
     "metadata": {},
     "output_type": "execute_result"
    }
   ],
   "source": [
    "n(1+2*log(1+log(250)/log(300000))+Err0(300000))"
   ]
  },
  {
   "cell_type": "code",
   "execution_count": 511,
   "metadata": {},
   "outputs": [
    {
     "data": {
      "image/png": "[encoded data removed]",
      "text/plain": [
       "<Figure size 432x288 with 1 Axes>"
      ]
     },
     "metadata": {
      "needs_background": "light"
     },
     "output_type": "display_data"
    }
   ],
   "source": [
    "import numpy as np\n",
    "import matplotlib.pyplot as plt\n",
    "\n",
    "def poscase3(t):\n",
    "    k=ceil((log(sqrt(t))-log(16))/(2*log(1000000)))\n",
    "    D2=(1.998/sqrt(2*pi))*((1+k)/(1+k-Sigma(1000000)))*(18.908/k)^k/sqrt(k)\n",
    "    return N((1.078-(0.028/250)*t)/(1.75+D2))\n",
    "\n",
    "Num=1000\n",
    "x=np.linspace(19000,110000,num=Num)\n",
    "y=[]\n",
    "for t in x:\n",
    "    z=poscase3(t)\n",
    "    y.append(z)\n",
    "w=0.15*np.ones(Num)\n",
    "plt.plot(x,y)\n",
    "plt.plot(x,w,'-',color='red')\n",
    "plt.ylabel('terms in RHD')\n",
    "plt.xlabel('(log d)^2')\n",
    "plt.grid()\n",
    "plt.show()"
   ]
  },
  {
   "cell_type": "markdown",
   "metadata": {},
   "source": [
    "$\\textbf{Case 4}$"
   ]
  },
  {
   "cell_type": "code",
   "execution_count": 93,
   "metadata": {},
   "outputs": [
    {
     "name": "stdout",
     "output_type": "stream",
     "text": [
      "Sigma= 6.78936814291713 esigma= 18.4554160496104\n"
     ]
    }
   ],
   "source": [
    "print('Sigma=', Sigma(40000),'esigma=',N(e*Sigma(40000)))"
   ]
  },
  {
   "cell_type": "code",
   "execution_count": 57,
   "metadata": {},
   "outputs": [
    {
     "data": {
      "text/plain": [
       "0.0320602254422238"
      ]
     },
     "execution_count": 57,
     "metadata": {},
     "output_type": "execute_result"
    }
   ],
   "source": [
    "N(Err0(40000))"
   ]
  },
  {
   "cell_type": "code",
   "execution_count": 89,
   "metadata": {},
   "outputs": [
    {
     "data": {
      "text/plain": [
       "2.41835458656211"
      ]
     },
     "execution_count": 89,
     "metadata": {},
     "output_type": "execute_result"
    }
   ],
   "source": [
    "n(1+2*log(2)+Err0(40000))"
   ]
  },
  {
   "cell_type": "code",
   "execution_count": 208,
   "metadata": {},
   "outputs": [
    {
     "data": {
      "image/png": "[encoded data removed]",
      "text/plain": [
       "<Figure size 432x288 with 1 Axes>"
      ]
     },
     "metadata": {
      "needs_background": "light"
     },
     "output_type": "display_data"
    }
   ],
   "source": [
    "import numpy as np\n",
    "import matplotlib.pyplot as plt\n",
    "\n",
    "def poscase4(t):\n",
    "    k=ceil((sqrt(t)-log(16))/(2*log(40000)))\n",
    "    D2=(1.998/sqrt(2*pi))*((1+k)/(1+k-Sigma(40000)))*(18.456/k)^k/sqrt(k)\n",
    "    return N((1.078-(0.028/40000)*t)/(2.419+D2))\n",
    "\n",
    "Num=1000\n",
    "x=np.linspace(110000,1000000,num=Num)\n",
    "y=[]\n",
    "for t in x:\n",
    "    z=poscase4(t)\n",
    "    y.append(z)\n",
    "w=0.15*np.ones(Num)\n",
    "plt.plot(x,y)\n",
    "plt.plot(x,w,'-',color='red')\n",
    "plt.ylabel('terms in RHD')\n",
    "plt.xlabel('(log d)^2')\n",
    "plt.grid()\n",
    "plt.show()"
   ]
  },
  {
   "cell_type": "markdown",
   "metadata": {},
   "source": [
    "$\\textbf{Case 5}$"
   ]
  },
  {
   "cell_type": "markdown",
   "metadata": {},
   "source": [
    "When $log d>100$ we have $t=(log d)^2> 10^6$."
   ]
  },
  {
   "cell_type": "code",
   "execution_count": 14,
   "metadata": {},
   "outputs": [
    {
     "data": {
      "text/plain": [
       "36.0908634933830"
      ]
     },
     "execution_count": 14,
     "metadata": {},
     "output_type": "execute_result"
    }
   ],
   "source": [
    "#k_0\n",
    "z=1000000\n",
    "\n",
    "k=N((.5*sqrt(z)-log(4))/log(z)); k"
   ]
  },
  {
   "cell_type": "code",
   "execution_count": 60,
   "metadata": {},
   "outputs": [
    {
     "data": {
      "image/png": "[encoded data removed]",
      "text/plain": [
       "Graphics object consisting of 1 graphics primitive"
      ]
     },
     "execution_count": 60,
     "metadata": {},
     "output_type": "execute_result"
    }
   ],
   "source": [
    "#checking that the bound of esigma/k_0 decreases\n",
    "\n",
    "var('t')\n",
    "plot(e*log(t)*(log(log(t))+1.034)/(.5*sqrt(t)-log(4)), (t, 1000000, 10000000), figsize=[5,3])"
   ]
  },
  {
   "cell_type": "code",
   "execution_count": 15,
   "metadata": {},
   "outputs": [
    {
     "data": {
      "text/plain": [
       "0.551445057041342"
      ]
     },
     "execution_count": 15,
     "metadata": {},
     "output_type": "execute_result"
    }
   ],
   "source": [
    "# bound of esigma/k_0\n",
    "\n",
    "esk0=N((e*log(z)*(2*log(log(z))+2.07))/(.5*sqrt(z)-log(4))); esk0"
   ]
  },
  {
   "cell_type": "code",
   "execution_count": 16,
   "metadata": {
    "scrolled": true
   },
   "outputs": [
    {
     "data": {
      "text/plain": [
       "1.25449312302400"
      ]
     },
     "execution_count": 16,
     "metadata": {},
     "output_type": "execute_result"
    }
   ],
   "source": [
    "#(1+k_0)/(1+k_0-sigma)\n",
    "\n",
    "ks=N(1/(1-esk0/e)); ks"
   ]
  },
  {
   "cell_type": "code",
   "execution_count": 17,
   "metadata": {},
   "outputs": [
    {
     "data": {
      "text/plain": [
       "7.79593348549370e-11"
      ]
     },
     "execution_count": 17,
     "metadata": {},
     "output_type": "execute_result"
    }
   ],
   "source": [
    "d=N(ks*(1.998/sqrt(2*pi*k))*esk0^k); d"
   ]
  },
  {
   "cell_type": "code",
   "execution_count": 18,
   "metadata": {},
   "outputs": [
    {
     "data": {
      "text/plain": [
       "2.40515553082105"
      ]
     },
     "execution_count": 18,
     "metadata": {},
     "output_type": "execute_result"
    }
   ],
   "source": [
    "dd=N(1+2*log(2)+Err0(z)); dd"
   ]
  },
  {
   "cell_type": "code",
   "execution_count": 19,
   "metadata": {},
   "outputs": [
    {
     "name": "stdout",
     "output_type": "stream",
     "text": [
      "The denominator is  2.40515553089901\n"
     ]
    }
   ],
   "source": [
    "#denominator\n",
    "\n",
    "print('The denominator is ', d+dd)"
   ]
  },
  {
   "cell_type": "code",
   "execution_count": 20,
   "metadata": {},
   "outputs": [
    {
     "data": {
      "text/plain": [
       "0.437120817964525"
      ]
     },
     "execution_count": 20,
     "metadata": {},
     "output_type": "execute_result"
    }
   ],
   "source": [
    "#getting the contradiction\n",
    "\n",
    "(t1-t2)/(d+dd)"
   ]
  },
  {
   "cell_type": "code",
   "execution_count": null,
   "metadata": {},
   "outputs": [],
   "source": []
  }
 ],
 "metadata": {
  "kernelspec": {
   "display_name": "SageMath 9.3",
   "language": "sage",
   "name": "sagemath"
  },
  "language_info": {
   "codemirror_mode": {
    "name": "ipython",
    "version": 3
   },
   "file_extension": ".py",
   "mimetype": "text/x-python",
   "name": "python",
   "nbconvert_exporter": "python",
   "pygments_lexer": "ipython3",
   "version": "3.7.10"
  }
 },
 "nbformat": 4,
 "nbformat_minor": 4
}
