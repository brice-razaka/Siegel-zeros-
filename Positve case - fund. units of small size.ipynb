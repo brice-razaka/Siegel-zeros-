{
 "cells": [
  {
   "cell_type": "markdown",
   "metadata": {},
   "source": [
    "We assume here that $1-\\beta \\leq 0.00249 \\tfrac{\\log d}{\\sqrt{d}}$"
   ]
  },
  {
   "cell_type": "code",
   "execution_count": 189,
   "metadata": {},
   "outputs": [
    {
     "name": "stdout",
     "output_type": "stream",
     "text": [
      "beta > [0.999949215311211 +/- 3.93e-16]\n",
      "beta^2 > [0.999898433201507 +/- 5.09e-16]\n",
      "(3-beta)(4-beta)< [6.00025392602303 +/- 6.68e-15]\n"
     ]
    }
   ],
   "source": [
    "assump=CBF((1-(0.00249*log(400000))/sqrt(400000)))\n",
    "assump2=CBF(assump^2)\n",
    "denom_b=CBF((3-assump)*(4-assump))\n",
    "\n",
    "print('beta >',assump)\n",
    "print('beta^2 >', assump2)\n",
    "print('(3-beta)(4-beta)<',denom_b)"
   ]
  },
  {
   "cell_type": "code",
   "execution_count": 190,
   "metadata": {},
   "outputs": [
    {
     "name": "stdout",
     "output_type": "stream",
     "text": [
      "[1.000101571956662 +/- 5.06e-16] and [4.00020314133424 +/- 4.63e-15]\n"
     ]
    }
   ],
   "source": [
    "c1=CBF((2-assump)^2)\n",
    "c2=CBF((3-assump)^2)\n",
    "\n",
    "print(c1,'and',c2)"
   ]
  },
  {
   "cell_type": "code",
   "execution_count": 191,
   "metadata": {},
   "outputs": [
    {
     "data": {
      "text/plain": [
       "[0.196857705981812 +/- 1.17e-16]"
      ]
     },
     "execution_count": 191,
     "metadata": {},
     "output_type": "execute_result"
    }
   ],
   "source": [
    "#We take the center of the complex ball on the square of the lower bound of \\beta\n",
    "c=assump2.mid()\n",
    "c11=c1.mid()\n",
    "c22=c2.mid()\n",
    "\n",
    "#J1 using complex ball fields\n",
    "J1=CBF(integral(abs(x*zeta(1-I*x))/sqrt((c+x^2)*(c11+x^2)*(c22+x^2)), x,-3,3)/(2*pi))\n",
    "J1"
   ]
  },
  {
   "cell_type": "code",
   "execution_count": 192,
   "metadata": {},
   "outputs": [
    {
     "data": {
      "text/plain": [
       "[0.451895312454907 +/- 2.28e-16]"
      ]
     },
     "execution_count": 192,
     "metadata": {},
     "output_type": "execute_result"
    }
   ],
   "source": [
    "#J2 using complex ball fields\n",
    "\n",
    "J2=CBF(integral(abs(x*zeta(1-I*x)*log(e*(abs(x)+14/5)))/sqrt((c+x^2)*(c11+x^2)*(c22+x^2)), x,-3,3)/(2*pi))\n",
    "J2"
   ]
  },
  {
   "cell_type": "code",
   "execution_count": 193,
   "metadata": {},
   "outputs": [
    {
     "data": {
      "text/plain": [
       "[0.208817293649116 +/- 6.32e-16]"
      ]
     },
     "execution_count": 193,
     "metadata": {},
     "output_type": "execute_result"
    }
   ],
   "source": [
    "#J3 using complex ball fields\n",
    "\n",
    "J3=CBF(integral(x*log(x)/sqrt((c+x^2)*(c11+x^2)*(c22+x^2)), x,3,Infinity)*(0.8/sqrt(2*pi)))\n",
    "J3"
   ]
  },
  {
   "cell_type": "code",
   "execution_count": 194,
   "metadata": {},
   "outputs": [
    {
     "data": {
      "text/plain": [
       "[0.818128125470813 +/- 9.00e-16]"
      ]
     },
     "execution_count": 194,
     "metadata": {},
     "output_type": "execute_result"
    }
   ],
   "source": [
    "#J4 using complex ball fields\n",
    "\n",
    "J4=CBF(integral((x*log(x)*log(e*(x+14/5)))/sqrt((c+x^2)*(c11+x^2)*(c22+x^2)), x,3,Infinity)*(0.8/sqrt(2*pi)))\n",
    "J4"
   ]
  },
  {
   "cell_type": "code",
   "execution_count": 195,
   "metadata": {},
   "outputs": [
    {
     "name": "stdout",
     "output_type": "stream",
     "text": [
      "J1+J3 is equal to [0.405674999630928 +/- 6.67e-16]\n",
      "J2+J4 is equal to [1.27002343792572 +/- 1.18e-15]\n"
     ]
    }
   ],
   "source": [
    "#The coefficients in the upper bound of J\n",
    "\n",
    "J1J3=J1+J3\n",
    "J2J4=J2+J4\n",
    "print('J1+J3 is equal to',J1J3)\n",
    "print('J2+J4 is equal to',J2J4)"
   ]
  },
  {
   "cell_type": "code",
   "execution_count": 202,
   "metadata": {},
   "outputs": [
    {
     "data": {
      "text/plain": [
       "[0.080235160805451 +/- 1.43e-16]"
      ]
     },
     "execution_count": 202,
     "metadata": {},
     "output_type": "execute_result"
    }
   ],
   "source": [
    "#The constant terms in the upper bound of J\n",
    "\n",
    "upperJ=CBF((J1J3+(J2J4/log(400000)))/(2*pi)); upperJ"
   ]
  },
  {
   "cell_type": "code",
   "execution_count": 203,
   "metadata": {},
   "outputs": [
    {
     "data": {
      "text/plain": [
       "[0.160470321610902 +/- 2.86e-16]"
      ]
     },
     "execution_count": 203,
     "metadata": {},
     "output_type": "execute_result"
    }
   ],
   "source": [
    "upperJ2=CBF(2*upperJ); upperJ2"
   ]
  },
  {
   "cell_type": "code",
   "execution_count": 204,
   "metadata": {},
   "outputs": [
    {
     "name": "stdout",
     "output_type": "stream",
     "text": [
      "[0.166659613464526 +/- 5.33e-16] [0.000399571100811146 +/- 7.03e-19]\n"
     ]
    }
   ],
   "source": [
    "t1=CBF(1/(denom_b))\n",
    "t3=CBF(0.00249)*upperJ2\n",
    "\n",
    "print(t1, t3)"
   ]
  },
  {
   "cell_type": "code",
   "execution_count": 205,
   "metadata": {},
   "outputs": [],
   "source": [
    "deno=CBF(22.0468045699745)"
   ]
  },
  {
   "cell_type": "code",
   "execution_count": 206,
   "metadata": {},
   "outputs": [
    {
     "name": "stdout",
     "output_type": "stream",
     "text": [
      "[0.00755935459651595 +/- 7.36e-18] [1.81237648087706e-5 +/- 5.21e-20]\n"
     ]
    }
   ],
   "source": [
    "print(t1/deno, t3/deno)"
   ]
  },
  {
   "cell_type": "code",
   "execution_count": 200,
   "metadata": {},
   "outputs": [
    {
     "data": {
      "text/plain": [
       "[1.81237648087706e-5 +/- 5.21e-20]"
      ]
     },
     "execution_count": 200,
     "metadata": {},
     "output_type": "execute_result"
    }
   ],
   "source": [
    "CBF(0.00249)*upperJ2/deno"
   ]
  },
  {
   "cell_type": "code",
   "execution_count": 201,
   "metadata": {},
   "outputs": [
    {
     "data": {
      "text/plain": [
       "[1.13273530054816e-6 +/- 2.52e-21]"
      ]
     },
     "execution_count": 201,
     "metadata": {},
     "output_type": "execute_result"
    }
   ],
   "source": [
    "CBF(0.00249)*upperJ2/(16*deno)"
   ]
  },
  {
   "cell_type": "markdown",
   "metadata": {},
   "source": [
    "### case 2"
   ]
  },
  {
   "cell_type": "code",
   "execution_count": 224,
   "metadata": {},
   "outputs": [],
   "source": [
    "def Sigma(l):\n",
    "    return CBF(2*sum([1./k for k in [1..l] if is_prime_power(k)]))"
   ]
  },
  {
   "cell_type": "code",
   "execution_count": 156,
   "metadata": {},
   "outputs": [
    {
     "data": {
      "text/plain": [
       "[3.785267510267510 +/- 2.62e-16]"
      ]
     },
     "execution_count": 156,
     "metadata": {},
     "output_type": "execute_result"
    }
   ],
   "source": [
    "Sigma(16)"
   ]
  },
  {
   "cell_type": "code",
   "execution_count": 157,
   "metadata": {},
   "outputs": [
    {
     "data": {
      "text/plain": [
       "[10.28942388901658 +/- 5.82e-15]"
      ]
     },
     "execution_count": 157,
     "metadata": {},
     "output_type": "execute_result"
    }
   ],
   "source": [
    "CBF(e*Sigma(16))"
   ]
  },
  {
   "cell_type": "code",
   "execution_count": 158,
   "metadata": {},
   "outputs": [],
   "source": [
    "def Err0(l):\n",
    "    return CBF(3.6/log(l)^2)"
   ]
  },
  {
   "cell_type": "code",
   "execution_count": 159,
   "metadata": {},
   "outputs": [
    {
     "data": {
      "text/plain": [
       "[0.468308020726262 +/- 8.15e-16]"
      ]
     },
     "execution_count": 159,
     "metadata": {},
     "output_type": "execute_result"
    }
   ],
   "source": [
    "Err0(16)"
   ]
  },
  {
   "cell_type": "code",
   "execution_count": 160,
   "metadata": {},
   "outputs": [
    {
     "data": {
      "text/plain": [
       "[2.85460238184615 +/- 3.48e-15]"
      ]
     },
     "execution_count": 160,
     "metadata": {},
     "output_type": "execute_result"
    }
   ],
   "source": [
    "CBF(1+2*log(2)+Err0(16))"
   ]
  },
  {
   "cell_type": "code",
   "execution_count": 248,
   "metadata": {},
   "outputs": [
    {
     "data": {
      "image/png": "[encoded data removed]",
      "text/plain": [
       "<Figure size 432x288 with 1 Axes>"
      ]
     },
     "metadata": {
      "needs_background": "light"
     },
     "output_type": "display_data"
    }
   ],
   "source": [
    "# case 2 - f(d)=16\n",
    "import numpy as np\n",
    "import matplotlib.pyplot as plt\n",
    "\n",
    "#f(d)=20\n",
    "\n",
    "def poscase2(t):\n",
    "    k=ceil((t-log(4))/(2*log(16)))\n",
    "    D2=0.02976*(1+k)/(1+k-3.78526)*(10.28942/k)^k/sqrt(k)\n",
    "    return N((0.00755-0.0000018*t)/(2.85460+D2))\n",
    "\n",
    "Num=1000\n",
    "x=np.linspace(41,235,num=Num)\n",
    "y=[]\n",
    "for t in x:\n",
    "    z=poscase2(t)\n",
    "    y.append(z)\n",
    "w=0.00249*np.ones(Num)\n",
    "plt.plot(x,y)\n",
    "plt.plot(x,w,'-',color='red')\n",
    "plt.ylabel('terms in RHD')\n",
    "plt.xlabel('log d')\n",
    "plt.grid()\n",
    "plt.show()"
   ]
  },
  {
   "cell_type": "markdown",
   "metadata": {},
   "source": [
    "### case 3"
   ]
  },
  {
   "cell_type": "code",
   "execution_count": 243,
   "metadata": {},
   "outputs": [
    {
     "data": {
      "text/plain": [
       "[38.1022842731467 +/- 3.48e-14]"
      ]
     },
     "execution_count": 243,
     "metadata": {},
     "output_type": "execute_result"
    }
   ],
   "source": [
    "w=CBF((230-log(4))/6); w"
   ]
  },
  {
   "cell_type": "code",
   "execution_count": 244,
   "metadata": {},
   "outputs": [
    {
     "data": {
      "text/plain": [
       "[31.4006158437368 +/- 5.95e-14]"
      ]
     },
     "execution_count": 244,
     "metadata": {},
     "output_type": "execute_result"
    }
   ],
   "source": [
    "CBF((3*w)/log(w))"
   ]
  },
  {
   "cell_type": "code",
   "execution_count": 246,
   "metadata": {},
   "outputs": [
    {
     "data": {
      "text/plain": [
       "[0.291002725540981 +/- 8.52e-16]"
      ]
     },
     "execution_count": 246,
     "metadata": {},
     "output_type": "execute_result"
    }
   ],
   "source": [
    "esk=CBF((e*log(w)*(log(log(w))+CBF(2.0695)))/(3*w)); esk"
   ]
  },
  {
   "cell_type": "code",
   "execution_count": 247,
   "metadata": {},
   "outputs": [
    {
     "data": {
      "text/plain": [
       "[1.11988844842406 +/- 5.00e-15]"
      ]
     },
     "execution_count": 247,
     "metadata": {},
     "output_type": "execute_result"
    }
   ],
   "source": [
    "k_s=CBF(1/(1-(esk/e))); k_s"
   ]
  },
  {
   "cell_type": "code",
   "execution_count": 230,
   "metadata": {},
   "outputs": [],
   "source": [
    "s0=13.40285"
   ]
  },
  {
   "cell_type": "code",
   "execution_count": 231,
   "metadata": {},
   "outputs": [
    {
     "data": {
      "text/plain": [
       "[4.121150704585e-20 +/- 4.70e-33]"
      ]
     },
     "execution_count": 231,
     "metadata": {},
     "output_type": "execute_result"
    }
   ],
   "source": [
    "T=CBF(1/s0)*CBF(k_s*(1/sqrt(2*pi*32))*esk^32); T"
   ]
  },
  {
   "cell_type": "code",
   "execution_count": 233,
   "metadata": {},
   "outputs": [
    {
     "data": {
      "text/plain": [
       "[2.65795974108724 +/- 2.67e-15]"
      ]
     },
     "execution_count": 233,
     "metadata": {},
     "output_type": "execute_result"
    }
   ],
   "source": [
    "d=CBF(1)+CBF(2*log(2))+CBF(3.6)/(log(z))^2; d"
   ]
  },
  {
   "cell_type": "code",
   "execution_count": 236,
   "metadata": {},
   "outputs": [
    {
     "data": {
      "text/plain": [
       "[1.81237648087706e-5 +/- 5.21e-20]"
      ]
     },
     "execution_count": 236,
     "metadata": {},
     "output_type": "execute_result"
    }
   ],
   "source": [
    "ratio=CBF(0.00249)*upperJ2/(deno); ratio"
   ]
  },
  {
   "cell_type": "code",
   "execution_count": 242,
   "metadata": {},
   "outputs": [
    {
     "data": {
      "text/plain": [
       "[0.0072786204051287 +/- 5.51e-17]"
      ]
     },
     "execution_count": 242,
     "metadata": {},
     "output_type": "execute_result"
    }
   ],
   "source": [
    "upperJ2/deno"
   ]
  },
  {
   "cell_type": "code",
   "execution_count": 238,
   "metadata": {},
   "outputs": [
    {
     "data": {
      "text/plain": [
       "[0.000109401994802580 +/- 6.24e-19]"
      ]
     },
     "execution_count": 238,
     "metadata": {},
     "output_type": "execute_result"
    }
   ],
   "source": [
    "tt3=CBF(ratio*(6*z+log(4))/z); tt3"
   ]
  },
  {
   "cell_type": "code",
   "execution_count": 241,
   "metadata": {},
   "outputs": [
    {
     "data": {
      "text/plain": [
       "[0.00279936444867063 +/- 3.27e-18]"
      ]
     },
     "execution_count": 241,
     "metadata": {},
     "output_type": "execute_result"
    }
   ],
   "source": [
    "#Getting the contradiction \n",
    "\n",
    "(CBF(0.00755)-tt3)/d"
   ]
  }
 ],
 "metadata": {
  "kernelspec": {
   "display_name": "SageMath 9.3",
   "language": "sage",
   "name": "sagemath"
  },
  "language_info": {
   "codemirror_mode": {
    "name": "ipython",
    "version": 3
   },
   "file_extension": ".py",
   "mimetype": "text/x-python",
   "name": "python",
   "nbconvert_exporter": "python",
   "pygments_lexer": "ipython3",
   "version": "3.7.10"
  }
 },
 "nbformat": 4,
 "nbformat_minor": 4
}
