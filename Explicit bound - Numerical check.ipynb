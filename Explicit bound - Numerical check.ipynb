{
 "cells": [
  {
   "cell_type": "markdown",
   "metadata": {},
   "source": [
    "# $\\bullet$ Sum of reciprocal prime powers\n",
    "\n",
    "We consider the following proposition on the sum of reciprocal of prime powers.\n",
    "\n",
    "$\\textbf{Proposition: }$ Let $B_1=0.26149...$ be the Meissel-Mertens constant (sequence A077761 in OEIS). For every $x\\geq 2$, we have\n",
    "$$\n",
    "-\\frac{1.75}{(\\log x)^2}\\leq \\sum_{p^{\\alpha}\\leq x}p^{-\\alpha} - \\log\\log x - B_2 \\leq \\min\\bigg\\{\\frac{0.2}{(\\log x)^3}, 10^{-4}\\bigg\\},\n",
    "$$\n",
    "where \n",
    "\\begin{equation}\\label{eq:primepower}\\tag{1}\n",
    "B_2 = B_1 + \\sum_{\\alpha\\geq 2}\\sum_p p^{-\\alpha} = 1.03465...\n",
    "\\end{equation}\n",
    "\n",
    "$\\textit{Proof: }$ The case $x\\geq 2278383$ is done in the manuscript. We check numerically below the remaining case which is $2\\leq x<2278383$. "
   ]
  },
  {
   "cell_type": "code",
   "execution_count": 13,
   "metadata": {},
   "outputs": [
    {
     "data": {
      "text/plain": [
       "0.00810194470075082"
      ]
     },
     "execution_count": 13,
     "metadata": {},
     "output_type": "execute_result"
    }
   ],
   "source": [
    "# Numerical check for the lower bound of the proposition when x is greater or equal to 2278383: \n",
    "\n",
    "N((1.75/(log(2278383))^2)-1./(floor(2278383)-1)-0.2/(log(2278383))^3)"
   ]
  },
  {
   "cell_type": "markdown",
   "metadata": {},
   "source": [
    "Now, for $x\\geq 2$, we define $\\varepsilon(x)$ as follows\n",
    "$$\n",
    "\\varepsilon(x):=\\sum_{p^{\\alpha}\\leq x} p^{-\\alpha} -\\log\\log(x) -B_2.\n",
    "$$"
   ]
  },
  {
   "cell_type": "code",
   "execution_count": 29,
   "metadata": {},
   "outputs": [
    {
     "name": "stdout",
     "output_type": "stream",
     "text": [
      "[0, -0.861182042479341]\n"
     ]
    }
   ],
   "source": [
    "# We check here the lower bound  holds for all prime-powers between 2 and 2278383.\n",
    "\n",
    "P=2278421\n",
    "minp=2\n",
    "B2=1.03454778250106                                       # The prime-power constant given by Equation (1)\n",
    "Max=0\n",
    "Min=0\n",
    "SS=N(sum([1./j for j in [2..minp] if is_prime_power(j)])) # The sum of reciprocal of prime-power \n",
    "for k in [minp+1..P]:\n",
    "    EE=SS-log(log(k*1.))-B2                               # This is the quantity \\varepsilon(x)\n",
    "    Max=max(EE, Max)\n",
    "    if is_prime_power(k+1):\n",
    "        SS=SS+1./(k+1)\n",
    "        ee=SS-log(log((k+1)*1.))-B2-1./(k+1)\n",
    "        Min=min(ee, Min)\n",
    "    else:\n",
    "        ee=SS-log(log((k+1)*1.))-B2\n",
    "        Min=min(ee, Min)\n",
    "print([Max, Min])"
   ]
  },
  {
   "cell_type": "code",
   "execution_count": 40,
   "metadata": {},
   "outputs": [
    {
     "name": "stdout",
     "output_type": "stream",
     "text": [
      "[0.0000843723609313951, -0.628595610117759]\n"
     ]
    }
   ],
   "source": [
    "# We check here that the upper bound holds for all prime-powers between 2 and 2278383.\n",
    "\n",
    "B2=1.03454778250106\n",
    "minp=2\n",
    "Sum=N(sum([1./j for j in [2..minp] if is_prime_power(j)]))\n",
    "Max=0\n",
    "Min=0\n",
    "for k in [minp+1..2278383]:\n",
    "    Eps=Sum-log(log(k*1.))-B2\n",
    "    Max=max(Max,Eps) \n",
    "    Min=min(Min,Eps)\n",
    "    if is_prime_power(k):\n",
    "        Sum=Sum+1./k\n",
    "print([Max, Min])"
   ]
  },
  {
   "cell_type": "markdown",
   "metadata": {},
   "source": [
    "We focus now on the proof of the main theorem."
   ]
  },
  {
   "cell_type": "code",
   "execution_count": 11,
   "metadata": {},
   "outputs": [
    {
     "data": {
      "text/plain": [
       "(0.999624722325027, 0.999249585483387)"
      ]
     },
     "execution_count": 11,
     "metadata": {},
     "output_type": "execute_result"
    }
   ],
   "source": [
    "N(1-6.5/sqrt(300000000)),  N((1-6.5/sqrt(300000000))^2) "
   ]
  },
  {
   "cell_type": "markdown",
   "metadata": {},
   "source": [
    "We assume that there exists $\\beta>0$ such that $L(\\beta, \\chi)=0$ and that \n",
    "\\begin{equation}\\label{bound-beta}\\tag{1}\n",
    "1-\\beta \\leq \\frac{6.5}{\\sqrt{d}},\n",
    "\\end{equation}\n",
    "for otherwise, there will be nothing to prove.\n",
    "\n",
    "# $\\bullet$ Lower bound on the integral $I$\n",
    "\n",
    "Let $\\zeta_{-d}(s)$ be the Dedekind zeta function of the quadratic field $Q(\\sqrt{-d})$. We consider the integral defined by\n",
    "$$\n",
    "I = \\frac{1}{2i\\pi} \\int_{2-i\\infty}^{2+i\\infty}\\zeta_{-d}(s+\\beta)\\frac{x^s}{s(s+2)(s+3)}ds.\n",
    "$$\n",
    "\n",
    "We first focus on finding a lower bound on $I$. We shift the path of integration to $Re(s)=-\\beta$. We can now write:\n",
    "\n",
    "$$\n",
    "I = \\frac{L(1,\\chi)\\, x^{1-\\beta}}{(1-\\beta)(3-\\beta)(4-\\beta)}+\\frac{1}{2i\\pi}\\int_{-\\beta-i\\infty}^{-\\beta+i\\infty}\\zeta(s+\\beta)L(s+\\beta,\\chi)\\frac{x^s}{s(s+2)(s+3)}ds.\n",
    "$$\n",
    "\n",
    "The first term comes from the simple pole at $s=1-\\beta$ and $s=0$ is also a removable singularity as $L(\\beta,\\chi)=0$. Denote the integral on the right hand side by $J$, that is\n",
    "$$\n",
    "J = \\frac{1}{2i\\pi}\\int_{-\\beta-i\\infty}^{-\\beta+i\\infty}\\zeta(s+\\beta)L(s+\\beta,\\chi)\\frac{x^s}{s(s+2)(s+3)}\\,ds.\n",
    "$$\n",
    "\n",
    "Set $s=-\\beta+it$ and taking the absolute value of the integral $J$, we get\n",
    "\\begin{align}\n",
    "|J| \n",
    "& = \\frac{1}{2\\pi}\\bigg|\n",
    "\\int_{-\\infty}^{+\\infty}\\zeta(it)\\;L(it,\\chi)\\;\\frac{x^{-\\beta+it}}{(-\\beta+it)(2-\\beta+it)(3-\\beta+it)}\\;\n",
    "dt \\bigg| \\\\\n",
    "& \\leq \\frac{x^{-\\beta}}{2\\pi}\n",
    "\\int_{-\\infty}^{+\\infty}|\\zeta(it)|\\,|L(it,\\chi)|\\;\\frac{dt}{\\sqrt{(\\beta^2+t^2)\\;((2-\\beta)^2+t^2)\\;((3-\\beta)^2+t^2)}}.\n",
    "\\end{align}\n",
    "\n",
    "We focus now on the product \n",
    "$$\n",
    "\\big(\\beta^2+t^2\\big)\\times\\big((2-\\beta)^2+t^2\\big)\\times\\big((3-\\beta)^2+t^2\\big).\n",
    "$$\n",
    "\n",
    "Using the assumption \\eqref{bound-beta} and $d>300\\,000\\,000$, we have\n",
    "\\begin{equation}\\label{beta2}\\tag{2}\n",
    "\\beta^2>\\bigg(1-\\frac{6.5}{\\sqrt{300 000 000}}\\bigg)^2>0.999, \n",
    "\\end{equation}\n",
    "which follows from below."
   ]
  },
  {
   "cell_type": "code",
   "execution_count": 1,
   "metadata": {},
   "outputs": [
    {
     "data": {
      "text/plain": [
       "0.999249585483387"
      ]
     },
     "execution_count": 1,
     "metadata": {},
     "output_type": "execute_result"
    }
   ],
   "source": [
    "N((1-6.5/sqrt(300000000))^2)\n",
    "#N((4-4*0.999+(0.999)^2)^2)"
   ]
  },
  {
   "cell_type": "markdown",
   "metadata": {},
   "source": [
    "With the above bound on $\\beta^2$, we have\n",
    "$$\n",
    "\\begin{cases}\n",
    "\\beta^2 + t^2 > 0.999 + t^2\\\\\n",
    "(2-\\beta)^2 + t^2 > 0.999 + t^2\\\\\n",
    "(3 - \\beta)^2 + t^2 >  3.999 + t^2.\n",
    "\\end{cases}\n",
    "$$\n",
    "\n",
    "Therefore,\n",
    "\\begin{equation}\\label{abs-J}\\tag{3}\n",
    "|J| \\leq \\frac{x^{-\\beta}}{2\\pi}\n",
    "\\int_{-\\infty}^{+\\infty}\\frac{|\\zeta(it)|\\,|L(it,\\chi)|}{\\sqrt{(0.999 + t^2)^2(3.999 + t^2)}}dt.\n",
    "\\end{equation}\n",
    "\n",
    "It now remains to find an explicit upper bound for $|\\zeta(it)|$ and $|L(it,\\chi)|$. We use the following results: in Patel's paper, if $|t|\\geq 3$ then\n",
    "\n",
    "$$\n",
    "|\\zeta(1+it)| \\leq \\min\\bigg(\\log |t|, \\frac{1}{2}\\log |t| + 1.93, \\frac{1}{5}\\log |t| + 44.02\\bigg);\n",
    "$$\n",
    "\n",
    "Similarly, Dudek showed that\n",
    "\n",
    "$$\n",
    "|L(1+it,\\chi)| \\leq \\log d +\\log \\bigg(e\\bigg(|t|+\\frac{14}{5}\\bigg)\\bigg).\n",
    "$$\n",
    "\n",
    "Combining these two results with the functional equations for the respetive functions, we get the following lemma\n",
    "\n",
    "# Lemma: \n",
    "For any real $t$ such that $|t|\\geq 3$, we have\n",
    "\n",
    "$$\n",
    "|\\zeta(it)| \\leq \\sqrt{\\frac{|t|}{2\\pi}}\\;\\min\\bigg(\\log |t|, \\frac{1}{2}\\log |t| + 1.93, \\frac{1}{5}\\log |t| + 44.02\\bigg)\n",
    "$$\n",
    "and \n",
    "$$\n",
    "|L(it,\\chi)| \\leq 0.4 \\sqrt{d|t|}\\bigg(\\log d+\\log\\bigg(e\\bigg(|t|+\\frac{14}{5}\\bigg)\\bigg).\n",
    "$$\n"
   ]
  },
  {
   "cell_type": "markdown",
   "metadata": {},
   "source": [
    "In the manuscript, a consequence of the above lemma is the following\n",
    "$$\n",
    "\\begin{equation}\n",
    "    |\\zeta(it)L(it,\\chi)| = \\frac{\\sqrt{d}}{2\\pi}|t\\zeta(1-it)L(1-it,\\chi)|,\n",
    "\\end{equation}\n",
    "$$\n",
    "for any nonzero real $t$. As one can see, we wanted to evaluate the integral $|J|$ in (3) by using the above equation and lemma. "
   ]
  },
  {
   "cell_type": "code",
   "execution_count": null,
   "metadata": {},
   "outputs": [],
   "source": [
    "# There is a problem on compiling the following code. So, we leave it for the moment.\n",
    "\n",
    "J1 = lambda x : abs(zeta__exact(1-i*x)*x)/sqrt((0.999+x^2)*(1+x^2)*(4+x^2))\n",
    "\n",
    "numerical_integral(J1, -3, 3)\n",
    "\n",
    "# We use Mathematica, for instance, to compute J1, J2, J3 and J4."
   ]
  },
  {
   "cell_type": "markdown",
   "metadata": {},
   "source": [
    "For $d\\geq 300 000 000$, we have\n",
    "\n",
    "$$\n",
    "|J| < 0.066 x^{-\\beta} \\sqrt{t} \\log d.\n",
    "$$\n",
    "\n",
    "Taking $x=\\frac{1}{2}\\sqrt{d}f(d)$ and using the class number formula for $d>4$, we then obtain\n",
    "\n",
    "$$\n",
    "I \\geq \\frac{x^{1-\\beta}}{(1-\\beta)\\sqrt{d}}\\bigg[\\frac{\\pi h(d)}{(3-\\beta)(4-\\beta)}-0.132\\frac{(1-\\beta)\\sqrt{d}\\log d}{f(d)}\\bigg].\n",
    "$$"
   ]
  },
  {
   "cell_type": "markdown",
   "metadata": {},
   "source": [
    "# $\\bullet$ Upper bound on the integral $I$\n",
    "\n",
    "We recall the following inequality\n",
    "\n",
    "$$\n",
    "I \\leq \\frac{1}{6} x^{1-\\beta} \\sum_{N(\\mathfrak{a})\\leq x} N(\\mathfrak{a})^{-1}.\n",
    "$$\n",
    "\n",
    "We aim to estimate the sum on the right hand side. We found that\n",
    "\n",
    "$$\n",
    "\\sum_{N(\\mathfrak{a})\\leq x} N(\\mathfrak{a})^{-1}=\n",
    "\\frac{\\pi^2}{66} h(d)\n",
    "\\bigg[\n",
    "1 + 2\\log\\bigg(1+\\frac{\\log f(d)}{\\log \\ell(d)}\\bigg) + \\frac{3.6}{(\\log \\ell(d)})^2\n",
    "+ \\frac{11}{101}\\;\\frac{1+k_0}{1+k_0-\\sigma}\\;\\frac{1}{\\sqrt{2\\pi k_0}}\\;\\bigg(\\frac{e \\sigma}{k_0}\\bigg)^{k_0}\n",
    "\\bigg]\n",
    "$$"
   ]
  },
  {
   "cell_type": "markdown",
   "metadata": {},
   "source": [
    "# $\\bullet$ Final steps\n",
    "\n",
    "We aim here to choose suitable values of the functions $f(d)$ and $\\ell(d)$ which satisfy certain constraints given below:\n",
    "\n",
    "\n",
    " $\\bullet$ $f(d)\\geq 1$\n",
    " \n",
    " $\\bullet$ $f(d)\\leq \\ell(d)$\n",
    " \n",
    " $\\bullet$ $k_0+1>\\sigma$ (recall that both sides depend on $\\ell(d)$)\n",
    " \n",
    "\n",
    "\n",
    "$\\textbf{Case 1: }$ $\\log(d) \\leq 42$\n",
    "\n",
    "Here, we choose $f(d)=1$ so that $\\ell(d)$ is not needed. Thus,\n",
    "\n",
    "$$\n",
    "I \\leq \\frac{1}{6}x^{1-\\beta} \\sum_{N(\\mathfrak{a})\\leq \\frac{1}{2}} N(\\mathfrak{a})^{-1} \\leq \\frac{\\pi^2}{396} x^{1-\\beta} h(-d).\n",
    "$$\n",
    "\n",
    "Combining this with the lower of the integral $I$, we obtain\n",
    "\n",
    "$$\n",
    "\\frac{1}{(1-\\beta)\\sqrt{d}}\\bigg[\\frac{\\pi}{(3-\\beta)(4-\\beta)}-0.132 \\frac{(1-\\beta)\\sqrt{d}\\log(d)}{h(-d)}\\bigg]\n",
    "\\leq \\frac{\\pi^2}{396}.\n",
    "$$\n",
    "\n",
    "Recall that we assumed $1-\\beta \\leq \\frac{6.5}{\\sqrt{d}}$ and since $d> 300000000$, we have\n",
    "\n",
    "$$\n",
    "\\frac{\\pi}{(3-\\beta)(4-\\beta)} > 0.523\n",
    "$$\n",
    "\n",
    "as $\\beta > 0.999$ (and $(3-\\beta)(4-\\beta)>6.005$). Now, using the fact that $h(-d)\\geq 101$, we get\n",
    "\n",
    "$$\n",
    "(1-\\beta)\\sqrt{d} > \\frac{396}{\\pi^2}\\bigg(0.523 - 0.132 \\frac{6.5\\;\\log(d)}{101}\\bigg)\n",
    "$$"
   ]
  },
  {
   "cell_type": "code",
   "execution_count": 26,
   "metadata": {},
   "outputs": [
    {
     "data": {
      "text/plain": [
       "(20.9844277017973, 0.340848474492969)"
      ]
     },
     "execution_count": 26,
     "metadata": {},
     "output_type": "execute_result"
    }
   ],
   "source": [
    "a = N((396*0.523)/pi^2); b = N((0.132*6.5*396)/(pi^2*101))\n",
    "(a, b)"
   ]
  },
  {
   "cell_type": "code",
   "execution_count": 48,
   "metadata": {},
   "outputs": [
    {
     "data": {
      "text/plain": [
       "[[x <= (4064500/96311)]]"
      ]
     },
     "execution_count": 48,
     "metadata": {},
     "output_type": "execute_result"
    }
   ],
   "source": [
    "solve_ineq(20.9844277017973-0.340848474492969*x >= 6.6 ) "
   ]
  },
  {
   "cell_type": "code",
   "execution_count": 49,
   "metadata": {},
   "outputs": [
    {
     "data": {
      "text/plain": [
       "42.2018253366697"
      ]
     },
     "execution_count": 49,
     "metadata": {},
     "output_type": "execute_result"
    }
   ],
   "source": [
    "N(4064500/96311)"
   ]
  },
  {
   "cell_type": "markdown",
   "metadata": {},
   "source": [
    "If $\\log (d) \\leq 42$ then we see that the RHS of the above equation is greater than 6.6 which contradicts our assumption.\n",
    "\n",
    "\n",
    "\n",
    "$\\textbf{Case 2: }$ $42 < \\log(d) \\leq 100$\n",
    "\n",
    "We choose $f(d)=\\ell(d)=16$. As before, we can write\n",
    "\n",
    "$$\n",
    "\\frac{1}{(1-\\beta)\\sqrt{d}}\\Bigg(\\frac{\\pi}{(3\\beta)(4-\\beta)}-0.132\\frac{(1-\\beta)\\sqrt{d}\\log(d)}{101 f(d)}\\Bigg)\n",
    "\\leq \\frac{\\pi^2}{396}\\Bigg(1+ 2\\log\\bigg(1+\\frac{\\log f(d)}{\\log \\ell(d)}\\bigg)+ E(d,\\ell(d))\\Bigg).\n",
    "$$\n",
    "\n",
    "That is\n",
    "\n",
    "\\begin{equation}\\label{case2}\\tag{4}\n",
    "(1-\\beta)\\sqrt{d} > \\frac{20.9844277017973 - 0.340848474492969 \\frac{\\log(d)}{f(d)}}{1+ 2\\log\\bigg(1+\\frac{\\log f(d)}{\\log \\ell(d)}\\bigg)+ E(d,\\ell(d))}\n",
    "\\end{equation}\n",
    "\n",
    "We see from \\eqref{case2} that $E(d,\\ell(d))$ need to be estimated. Recall that\n",
    "\n",
    "$$\n",
    "\\begin{align}\n",
    "E(d, \\ell(d)) & \\leq \\frac{3.6}{(\\log\\ell(d))^2} + \\frac{11}{101\\sqrt{2\\pi}}\\frac{1+k_0}{1+k_0-\\sigma}\\frac{1}{\\sqrt{ k_0}}\\bigg(\\frac{e\\sigma}{k_0}\\bigg)^{k_0}\\\\\n",
    "& < 0.468308020726262 + 0.0434491592516412 \\frac{1+k_0}{1+k_0-\\sigma}\\frac{1}{\\sqrt{ k_0}}\\bigg(\\frac{10.2914150025459}{k_0}\\bigg)^{k_0}\n",
    "\\end{align}\n",
    "$$\n",
    "\n",
    "since $\\sigma$ is given by\n",
    "\n",
    "$$\n",
    "\\sigma = 2\\sum_{p^{\\alpha}\\leq 16} p^{-\\alpha}  < 3.786\n",
    "$$"
   ]
  },
  {
   "cell_type": "code",
   "execution_count": 64,
   "metadata": {},
   "outputs": [
    {
     "data": {
      "text/plain": [
       "3.78526751026751"
      ]
     },
     "execution_count": 64,
     "metadata": {},
     "output_type": "execute_result"
    }
   ],
   "source": [
    "N(2*sum(1/p for p in [2..16] if is_prime_power(p)))"
   ]
  },
  {
   "cell_type": "code",
   "execution_count": 34,
   "metadata": {},
   "outputs": [
    {
     "data": {
      "text/plain": [
       "(0.468308020726262, 0.0434491592516412, 10.2914150025459)"
      ]
     },
     "execution_count": 34,
     "metadata": {},
     "output_type": "execute_result"
    }
   ],
   "source": [
    "esigma = N(e*3.786); e1 = N(3.6/(log(16))^2); e2 = N(11/(sqrt(2*pi)*101)); (e1, e2, esigma)"
   ]
  },
  {
   "cell_type": "markdown",
   "metadata": {},
   "source": [
    "We know that $f(d)=\\ell(d)=16$, then the numerator and the denominator of (4) can be written as follos\n",
    "\n",
    "$$\n",
    "20.9844277017973 - 0.340848474492969\\; \\frac{\\log(d)}{f(d)}\\geq 20.9844277017973-0.0213030296558106\\;\\log(d)\n",
    "$$\n",
    "and\n",
    "$$\n",
    "1+2\\log\\bigg(1+\\frac{\\log f(d)}{\\log \\ell(d)}\\bigg) = 1+2\\log(2) = 2.38629436111989 < 2.387\n",
    "$$\n",
    "\n",
    "Thus,\n",
    "\n",
    "$$\n",
    "(1-\\beta)\\sqrt{d} > \n",
    "\\frac{20.9844277017973-0.0213030296558106\\;\\log(d)}{2.85460238184615 + 0.0434491592516412 \\frac{1+k_0}{1+k_0-3.786}\\frac{1}{\\sqrt{ k_0}}\\bigg(\\frac{10.2914150025459}{k_0}\\bigg)^{k_0}}\n",
    "$$\n",
    "\n",
    "We now need to look at $k_0$ which is defined by the following formula\n",
    "\n",
    "$$\n",
    "k_0 = \\bigg\\lceil \\frac{\\log\\frac{\\sqrt{d}}{2}}{\\log\\ell(d)}\\bigg\\rceil \n",
    "= \\bigg\\lceil\\frac{\\log d -\\log 4}{2\\log 16}\\bigg\\rceil\n",
    "$$\n",
    "\n",
    "and as we see it depends on $\\log(d)$."
   ]
  },
  {
   "cell_type": "code",
   "execution_count": 37,
   "metadata": {},
   "outputs": [
    {
     "data": {
      "text/plain": [
       "2.85460238184615"
      ]
     },
     "execution_count": 37,
     "metadata": {},
     "output_type": "execute_result"
    }
   ],
   "source": [
    "N(1+ 2*log(2)+ 0.468308020726262)"
   ]
  },
  {
   "cell_type": "markdown",
   "metadata": {},
   "source": [
    "$\\textbf{Case 3: }$ $\\log(d) > 100$\n",
    "\n",
    "Here, we are in the same situation as in (4) but we choose $f(d)=\\ell(d)=0.5\\log(\\frac{1}{2}\\sqrt{d})$. For simplicity, we denote this constant by $t$. Since $\\log d> 100$ then we get $t>24.6534264097200$. The term $k_0$ is then given by\n",
    "\n",
    "$$\n",
    "k_0 = \\bigg\\lceil \\frac{\\log\\frac{\\sqrt{d}}{2}}{\\log\\ell(d)}\\bigg\\rceil \n",
    "\\geq \\frac{2t}{\\log\\,t} = 15.3847571860667.\n",
    "$$\n",
    "\n",
    "Hence, we may assume $k_0\\geq 16$. The term $\\sigma$ is here defined by\n",
    "\n",
    "$$\n",
    "\\sigma = 2 \\sum_{p^{\\alpha}\\leq t}p^{\\alpha} \n",
    "\\leq 2 \\bigg[ \\log\\log t + B_2+ \\min\\bigg(\\frac{0.2}{(\\log\\,t)^3},10^{-4}\\bigg)\\bigg]\n",
    "\\leq 2 \\log\\log t + 2.06950000000000.\n",
    "$$\n",
    "\n",
    "where $B_2=1.03465...$ It follows that\n",
    "\n",
    "$$\n",
    "\\frac{e\\sigma}{k_0} \\leq \\frac{e \\log t \\;\\bigg(2 \\log\\log t + 2.06950000000000\\bigg)}{ 2t}.\n",
    "$$\n",
    "\n",
    "Noting that, when $t>24.6534264097200$, the term in the right-hand side above is a decreasing function of $t$. Hence,\n",
    "\n",
    "$$\n",
    "\\frac{e\\sigma}{k_0} < 0.777222080957604\n",
    "$$\n",
    "\n",
    "We now look at the the function $E(d,\\ell(d))$ such that\n",
    "\n",
    "$$\n",
    "E(d,\\ell(d)) \\leq \n",
    "\\frac{3.6}{(\\log\\ell(d))^2} + \\frac{11}{101\\sqrt{2\\pi}}\\frac{1+k_0}{1+k_0-\\sigma}\\frac{1}{\\sqrt{ k_0}}\\bigg(\\frac{e\\sigma}{k_0}\\bigg)^{k_0}.\n",
    "$$\n",
    "\n",
    "We checked that $1+ k_0 > \\sigma$. Hence,\n",
    "\n",
    "$$\n",
    "\\frac{1+k_0}{1+k_0-\\sigma} = \\frac{1}{1 -\\frac{\\sigma}{1+k_0}} < \\frac{1}{1 - \\frac{0.777222080957604}{e}} \n",
    "= 1.40041120937058 \n",
    "$$\n",
    "\n",
    "Now, using the fact that $k_0\\geq 16$, we get \n",
    "\n",
    "$$\n",
    "\\frac{11}{101\\sqrt{2\\pi}}\\frac{1+k_0}{1+k_0-\\sigma}\\frac{1}{\\sqrt{ k_0}}\\bigg(\\frac{e\\sigma}{k_0}\\bigg)^{k_0}\n",
    "< 0.0152116724134314\\times(0.777222080957604)^{16} = 0.000269711243577204\n",
    "$$\n",
    "\n",
    "As we can see, this term contributes very little in the function $E(d, \\ell(d))$. For the remaining terms of the denominator as in (4), we have\n",
    "\n",
    "$$\n",
    "1 + 2 \\log\\bigg(1 + \\frac{f(d)}{\\ell(d)}\\bigg) + \\frac{3.6}{(\\log\\ell(d))^2}\n",
    "= 1 + 2 \\log \\,2 + \\frac{3.6}{(\\log t)^2}\n",
    "< 2.73677919272763\n",
    "$$\n",
    "\n",
    "as $f(d)=\\ell(d)=t$ and $t > 24.6534264097200$. Recall that $(4)$ is  given as follows\n",
    "\n",
    "$$\n",
    "(1-\\beta)\\sqrt{d} > \\frac{20.9844277017973 - 0.340848474492969 \\frac{\\log(d)}{f(d)}}{1+ 2\\log\\bigg(1+\\frac{\\log f(d)}{\\log \\ell(d)}\\bigg)+ E(d,\\ell(d))}\n",
    "$$\n",
    "\n",
    "Combining all the above numerical value, we finally obtain\n",
    "\n",
    "\\begin{align}\n",
    "(1-\\beta)\\sqrt{d} \n",
    "& > \\frac{20.9844277017973 - 0.340848474492969 \\frac{\\log(d)}{t}}{2.73677919272763}\\\\\n",
    "& > 7.66756330125523 - 0.124543651675918\\;\\frac{4t + \\log \\,4}{t} \\\\\n",
    "& > 7.15319816906329\n",
    "\\end{align}\n",
    "\n",
    "for $t >24.6534264097200$, which contradicts our earlier assumption on $(1-\\beta)\\sqrt{d}$. Thus, we have shown that\n",
    "\n",
    "$$\n",
    "(1-\\beta) \\leq \\frac{6.5}{\\sqrt{d}}.\n",
    "$$"
   ]
  },
  {
   "cell_type": "code",
   "execution_count": 14,
   "metadata": {},
   "outputs": [
    {
     "data": {
      "text/plain": [
       "19.5192930326205"
      ]
     },
     "execution_count": 14,
     "metadata": {},
     "output_type": "execute_result"
    }
   ],
   "source": [
    "N(log(300000000))"
   ]
  },
  {
   "cell_type": "code",
   "execution_count": null,
   "metadata": {},
   "outputs": [],
   "source": []
  }
 ],
 "metadata": {
  "kernelspec": {
   "display_name": "SageMath 8.8",
   "language": "sage",
   "name": "sagemath"
  },
  "language_info": {
   "codemirror_mode": {
    "name": "ipython",
    "version": 2
   },
   "file_extension": ".py",
   "mimetype": "text/x-python",
   "name": "python",
   "nbconvert_exporter": "python",
   "pygments_lexer": "ipython2",
   "version": "2.7.15"
  }
 },
 "nbformat": 4,
 "nbformat_minor": 4
}
