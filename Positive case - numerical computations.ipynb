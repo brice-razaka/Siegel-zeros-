{
 "cells": [
  {
   "cell_type": "markdown",
   "metadata": {},
   "source": [
    "We assume that $1-\\beta\\leq 0.00126\\tfrac{\\log d}{\\sqrt{d}}$"
   ]
  },
  {
   "cell_type": "code",
   "execution_count": 1,
   "metadata": {},
   "outputs": [
    {
     "name": "stdout",
     "output_type": "stream",
     "text": [
      "beta > [0.999974301723745 +/- 5.74e-16]\n",
      "beta^2 > [0.999948604107892 +/- 6.58e-16]\n",
      "(3-beta)(4-beta)< [6.00012849204167 +/- 4.76e-15]\n"
     ]
    }
   ],
   "source": [
    "assump=CBF((1-(0.00126*log(400000))/sqrt(400000)))\n",
    "assump2=CBF(assump^2)\n",
    "denom_b=CBF((3-assump)*(4-assump))\n",
    "\n",
    "print('beta >',assump)\n",
    "print('beta^2 >', assump2)\n",
    "print('(3-beta)(4-beta)<',denom_b)"
   ]
  },
  {
   "cell_type": "code",
   "execution_count": 2,
   "metadata": {},
   "outputs": [
    {
     "name": "stdout",
     "output_type": "stream",
     "text": [
      "[1.000051397212910 +/- 8.09e-16] and [4.00010279376542 +/- 2.56e-15]\n"
     ]
    }
   ],
   "source": [
    "c1=CBF((2-assump)^2)\n",
    "c2=CBF((3-assump)^2)\n",
    "\n",
    "print(c1,'and',c2)"
   ]
  },
  {
   "cell_type": "code",
   "execution_count": 3,
   "metadata": {},
   "outputs": [
    {
     "data": {
      "text/plain": [
       "[0.1968597028606857 +/- 9.07e-17]"
      ]
     },
     "execution_count": 3,
     "metadata": {},
     "output_type": "execute_result"
    }
   ],
   "source": [
    "#We take the center of the complex ball on the square of the lower bound of \\beta\n",
    "c=assump2.mid()\n",
    "c11=c1.mid()\n",
    "c22=c2.mid()\n",
    "\n",
    "#J1 using complex ball fields\n",
    "J1=CBF(integral(abs(x*zeta(1-I*x))/sqrt((c+x^2)*(c11+x^2)*(c22+x^2)), x,-3,3)/(2*pi))\n",
    "J1"
   ]
  },
  {
   "cell_type": "code",
   "execution_count": 4,
   "metadata": {},
   "outputs": [
    {
     "data": {
      "text/plain": [
       "[0.451899804706626 +/- 5.51e-16]"
      ]
     },
     "execution_count": 4,
     "metadata": {},
     "output_type": "execute_result"
    }
   ],
   "source": [
    "#J2 using complex ball fields\n",
    "\n",
    "J2=CBF(integral(abs(x*zeta(1-I*x)*log(e*(abs(x)+14/5)))/sqrt((c+x^2)*(c11+x^2)*(c22+x^2)), x,-3,3)/(2*pi))\n",
    "J2"
   ]
  },
  {
   "cell_type": "code",
   "execution_count": 5,
   "metadata": {},
   "outputs": [
    {
     "data": {
      "text/plain": [
       "[0.208817491218100 +/- 2.41e-16]"
      ]
     },
     "execution_count": 5,
     "metadata": {},
     "output_type": "execute_result"
    }
   ],
   "source": [
    "#J3 using complex ball fields\n",
    "\n",
    "J3=CBF(integral(x*log(x)/sqrt((c+x^2)*(c11+x^2)*(c22+x^2)), x,3,Infinity)*(0.8/sqrt(2*pi)))\n",
    "J3"
   ]
  },
  {
   "cell_type": "code",
   "execution_count": 6,
   "metadata": {},
   "outputs": [
    {
     "data": {
      "text/plain": [
       "[0.818128728674733 +/- 6.75e-16]"
      ]
     },
     "execution_count": 6,
     "metadata": {},
     "output_type": "execute_result"
    }
   ],
   "source": [
    "#J4 using complex ball fields\n",
    "\n",
    "J4=CBF(integral((x*log(x)*log(e*(x+14/5)))/sqrt((c+x^2)*(c11+x^2)*(c22+x^2)), x,3,Infinity)*(0.8/sqrt(2*pi)))\n",
    "J4"
   ]
  },
  {
   "cell_type": "code",
   "execution_count": 7,
   "metadata": {},
   "outputs": [
    {
     "name": "stdout",
     "output_type": "stream",
     "text": [
      "J1+J3 is equal to [0.405677194078786 +/- 6.03e-16]\n",
      "J2+J4 is equal to [1.270028533381359 +/- 9.31e-16]\n"
     ]
    }
   ],
   "source": [
    "#The coefficients in (1.4.13)\n",
    "J1J3=J1+J3\n",
    "J2J4=J2+J4\n",
    "print('J1+J3 is equal to',J1J3)\n",
    "print('J2+J4 is equal to',J2J4)"
   ]
  },
  {
   "cell_type": "code",
   "execution_count": 8,
   "metadata": {
    "scrolled": true
   },
   "outputs": [
    {
     "data": {
      "text/plain": [
       "[0.080235572932132 +/- 4.54e-16]"
      ]
     },
     "execution_count": 8,
     "metadata": {},
     "output_type": "execute_result"
    }
   ],
   "source": [
    "#The constant terms in the upper bound of J\n",
    "upperJ=CBF((J1J3+(J2J4/log(400000)))/(2*pi)); upperJ"
   ]
  },
  {
   "cell_type": "code",
   "execution_count": 9,
   "metadata": {},
   "outputs": [
    {
     "data": {
      "text/plain": [
       "[0.160471145864265 +/- 5.13e-16]"
      ]
     },
     "execution_count": 9,
     "metadata": {},
     "output_type": "execute_result"
    }
   ],
   "source": [
    "upperJ2=CBF(2*upperJ); upperJ2"
   ]
  },
  {
   "cell_type": "code",
   "execution_count": 11,
   "metadata": {},
   "outputs": [
    {
     "name": "stdout",
     "output_type": "stream",
     "text": [
      "[0.0833315487598607 +/- 6.82e-17] [0.115522056149182 +/- 1.33e-16] [0.000202193643788973 +/- 7.91e-19]\n"
     ]
    }
   ],
   "source": [
    "t1=CBF(1/(2*denom_b))\n",
    "t2=CBF(log(4)/(2*denom_b))\n",
    "t3=CBF(0.00126)*upperJ2\n",
    "\n",
    "print(t1, t2, t3)"
   ]
  },
  {
   "cell_type": "code",
   "execution_count": 18,
   "metadata": {},
   "outputs": [
    {
     "name": "stdout",
     "output_type": "stream",
     "text": [
      "[0.0037797563132278 +/- 1.11e-17] [0.0052398548634350 +/- 1.95e-17] [9.1711088174810e-6 +/- 4.35e-20]\n"
     ]
    }
   ],
   "source": [
    "print(t1/deno, t2/deno, t3/deno)"
   ]
  },
  {
   "cell_type": "code",
   "execution_count": 19,
   "metadata": {},
   "outputs": [
    {
     "data": {
      "text/plain": [
       "[4.5855544087405e-7 +/- 2.16e-21]"
      ]
     },
     "execution_count": 19,
     "metadata": {},
     "output_type": "execute_result"
    }
   ],
   "source": [
    "# f(d)=20\n",
    "CBF(t3/(deno*20))"
   ]
  },
  {
   "cell_type": "code",
   "execution_count": 78,
   "metadata": {},
   "outputs": [
    {
     "data": {
      "text/plain": [
       "[0.0072786577916516 +/- 4.44e-17]"
      ]
     },
     "execution_count": 78,
     "metadata": {},
     "output_type": "execute_result"
    }
   ],
   "source": [
    "CBF(upperJ2/deno)"
   ]
  },
  {
   "cell_type": "code",
   "execution_count": 77,
   "metadata": {},
   "outputs": [
    {
     "data": {
      "text/plain": [
       "[9.1711088174810e-6 +/- 4.35e-20]"
      ]
     },
     "execution_count": 77,
     "metadata": {},
     "output_type": "execute_result"
    }
   ],
   "source": [
    "CBF(0.00126)*upperJ2/deno"
   ]
  },
  {
   "cell_type": "markdown",
   "metadata": {},
   "source": [
    "#### Upper estimate of the integral $I$"
   ]
  },
  {
   "cell_type": "code",
   "execution_count": 13,
   "metadata": {},
   "outputs": [
    {
     "data": {
      "text/plain": [
       "[2.07808692123503 +/- 3.44e-15]"
      ]
     },
     "execution_count": 13,
     "metadata": {},
     "output_type": "execute_result"
    }
   ],
   "source": [
    "nu=CBF(1/log((1+sqrt(5))/2)); nu"
   ]
  },
  {
   "cell_type": "code",
   "execution_count": 14,
   "metadata": {
    "scrolled": true
   },
   "outputs": [
    {
     "data": {
      "text/plain": [
       "[13.4028500073667 +/- 3.83e-14]"
      ]
     },
     "execution_count": 14,
     "metadata": {},
     "output_type": "execute_result"
    }
   ],
   "source": [
    "s0=CBF(nu*log(400000)/2); s0"
   ]
  },
  {
   "cell_type": "code",
   "execution_count": 15,
   "metadata": {},
   "outputs": [
    {
     "data": {
      "text/plain": [
       "[22.0468045699745 +/- 6.12e-14]"
      ]
     },
     "execution_count": 15,
     "metadata": {},
     "output_type": "execute_result"
    }
   ],
   "source": [
    "deno=CBF((pi^2*s0)/6); deno"
   ]
  },
  {
   "cell_type": "markdown",
   "metadata": {},
   "source": [
    "#### Case 1"
   ]
  },
  {
   "cell_type": "code",
   "execution_count": 83,
   "metadata": {},
   "outputs": [],
   "source": [
    "def case1_pos(t):\n",
    "    return N(0.00377-0.00523/t-0.000009*t)"
   ]
  },
  {
   "cell_type": "code",
   "execution_count": 84,
   "metadata": {},
   "outputs": [
    {
     "data": {
      "image/png": "[encoded data removed]",
      "text/plain": [
       "<Figure size 432x288 with 1 Axes>"
      ]
     },
     "metadata": {
      "needs_background": "light"
     },
     "output_type": "display_data"
    }
   ],
   "source": [
    "#from ipywidgets import *\n",
    "import numpy as np \n",
    "import matplotlib.pyplot as plt\n",
    "\n",
    "Num=1000\n",
    "x=np.linspace(7,70,num=Num)\n",
    "y=[]\n",
    "for t in x:\n",
    "    z=case1_pos(t)\n",
    "    y.append(z)\n",
    "w=0.00126*np.ones(Num)\n",
    "plt.plot(x,y)\n",
    "plt.plot(x,w,'-',color='red')\n",
    "plt.ylabel('terms in RHD')\n",
    "plt.xlabel('log d')\n",
    "plt.grid()\n",
    "plt.show()"
   ]
  },
  {
   "cell_type": "markdown",
   "metadata": {},
   "source": [
    "#### Case 2"
   ]
  },
  {
   "cell_type": "code",
   "execution_count": 86,
   "metadata": {},
   "outputs": [],
   "source": [
    "def Sigma(l):\n",
    "    return CBF(2*sum([1./k for k in [1..l] if is_prime_power(k)]))"
   ]
  },
  {
   "cell_type": "code",
   "execution_count": 87,
   "metadata": {},
   "outputs": [
    {
     "data": {
      "text/plain": [
       "[4.008177726985776 +/- 3.46e-16]"
      ]
     },
     "execution_count": 87,
     "metadata": {},
     "output_type": "execute_result"
    }
   ],
   "source": [
    "CBF(Sigma(20))"
   ]
  },
  {
   "cell_type": "code",
   "execution_count": 270,
   "metadata": {},
   "outputs": [
    {
     "data": {
      "text/plain": [
       "[10.89535668049971 +/- 8.43e-15]"
      ]
     },
     "execution_count": 270,
     "metadata": {},
     "output_type": "execute_result"
    }
   ],
   "source": [
    "CBF(e*Sigma(20))"
   ]
  },
  {
   "cell_type": "code",
   "execution_count": 88,
   "metadata": {},
   "outputs": [],
   "source": [
    "def Err0(l):\n",
    "    return CBF(3.6/log(l)^2)"
   ]
  },
  {
   "cell_type": "code",
   "execution_count": 89,
   "metadata": {},
   "outputs": [
    {
     "data": {
      "text/plain": [
       "[2.78743485458513 +/- 4.57e-15]"
      ]
     },
     "execution_count": 89,
     "metadata": {},
     "output_type": "execute_result"
    }
   ],
   "source": [
    "CBF(1+2*log(2))+Err0(20)"
   ]
  },
  {
   "cell_type": "code",
   "execution_count": 90,
   "metadata": {},
   "outputs": [
    {
     "data": {
      "text/plain": [
       "[0.0297654812358684 +/- 8.61e-17]"
      ]
     },
     "execution_count": 90,
     "metadata": {},
     "output_type": "execute_result"
    }
   ],
   "source": [
    "CBF(1/(s0*sqrt(2*pi)))"
   ]
  },
  {
   "cell_type": "code",
   "execution_count": 92,
   "metadata": {},
   "outputs": [
    {
     "data": {
      "text/plain": [
       "[0.0052398548634350 +/- 2.16e-17]"
      ]
     },
     "execution_count": 92,
     "metadata": {},
     "output_type": "execute_result"
    }
   ],
   "source": [
    "CBF(log(4)/(2*denom_b*deno))"
   ]
  },
  {
   "cell_type": "code",
   "execution_count": 85,
   "metadata": {},
   "outputs": [
    {
     "data": {
      "image/png": "[encoded data removed]",
      "text/plain": [
       "<Figure size 432x288 with 1 Axes>"
      ]
     },
     "metadata": {
      "needs_background": "light"
     },
     "output_type": "display_data"
    }
   ],
   "source": [
    "import numpy as np\n",
    "import matplotlib.pyplot as plt\n",
    "\n",
    "#f(d)=20\n",
    "\n",
    "def poscase2(t):\n",
    "    k=ceil((t-log(4))/(2*log(20)))\n",
    "    D2=0.02976*(1+k)/(1+k-4.00817)*(10.89535/k)^k/sqrt(k)\n",
    "    return N((0.00377-(0.00523/t)-0.0000004*t)/(2.78743+D2))\n",
    "\n",
    "Num=1000\n",
    "x=np.linspace(50,600,num=Num)\n",
    "y=[]\n",
    "for t in x:\n",
    "    z=poscase2(t)\n",
    "    y.append(z)\n",
    "w=0.00126*np.ones(Num)\n",
    "plt.plot(x,y)\n",
    "plt.plot(x,w,'-',color='red')\n",
    "plt.ylabel('terms in RHD')\n",
    "plt.xlabel('log d')\n",
    "plt.grid()\n",
    "plt.show()"
   ]
  },
  {
   "cell_type": "markdown",
   "metadata": {},
   "source": [
    "#### Case 3"
   ]
  },
  {
   "cell_type": "code",
   "execution_count": 93,
   "metadata": {},
   "outputs": [
    {
     "data": {
      "text/plain": [
       "[59.86137056388801 +/- 8.02e-15]"
      ]
     },
     "execution_count": 93,
     "metadata": {},
     "output_type": "execute_result"
    }
   ],
   "source": [
    "z=CBF(.1*(600-log(4))); z"
   ]
  },
  {
   "cell_type": "code",
   "execution_count": 94,
   "metadata": {},
   "outputs": [
    {
     "data": {
      "text/plain": [
       "[4.749539810999852 +/- 3.26e-16]"
      ]
     },
     "execution_count": 94,
     "metadata": {},
     "output_type": "execute_result"
    }
   ],
   "source": [
    "Sigma(59)"
   ]
  },
  {
   "cell_type": "code",
   "execution_count": 95,
   "metadata": {},
   "outputs": [
    {
     "data": {
      "text/plain": [
       "[73.1438309448085 +/- 8.27e-14]"
      ]
     },
     "execution_count": 95,
     "metadata": {},
     "output_type": "execute_result"
    }
   ],
   "source": [
    "CBF((5*z)/log(z))"
   ]
  },
  {
   "cell_type": "code",
   "execution_count": 40,
   "metadata": {},
   "outputs": [
    {
     "data": {
      "image/png": "[encoded data removed]",
      "text/plain": [
       "Graphics object consisting of 1 graphics primitive"
      ]
     },
     "execution_count": 40,
     "metadata": {},
     "output_type": "execute_result"
    }
   ],
   "source": [
    "var('t')\n",
    "plot((e*log(t)*(log(log(t))+2.0695))/(5*t), (t, 52, 100), figsize=[5,3])"
   ]
  },
  {
   "cell_type": "code",
   "execution_count": 96,
   "metadata": {},
   "outputs": [
    {
     "data": {
      "text/plain": [
       "[0.129274828572209 +/- 4.03e-16]"
      ]
     },
     "execution_count": 96,
     "metadata": {},
     "output_type": "execute_result"
    }
   ],
   "source": [
    "esk=CBF((e*log(z)*(log(log(z))+CBF(2.0695)))/(5*z)); esk"
   ]
  },
  {
   "cell_type": "code",
   "execution_count": 98,
   "metadata": {},
   "outputs": [
    {
     "data": {
      "text/plain": [
       "[1.049932205118742 +/- 5.30e-16]"
      ]
     },
     "execution_count": 98,
     "metadata": {},
     "output_type": "execute_result"
    }
   ],
   "source": [
    "k_s=CBF(1/(1-(esk/e))); k_s"
   ]
  },
  {
   "cell_type": "code",
   "execution_count": 100,
   "metadata": {},
   "outputs": [
    {
     "data": {
      "text/plain": [
       "[6.49070880545e-69 +/- 1.11e-81]"
      ]
     },
     "execution_count": 100,
     "metadata": {},
     "output_type": "execute_result"
    }
   ],
   "source": [
    "T=CBF(1/s0)*CBF(k_s*(1/sqrt(2*pi*74))*esk^74); T"
   ]
  },
  {
   "cell_type": "code",
   "execution_count": 111,
   "metadata": {},
   "outputs": [
    {
     "data": {
      "text/plain": [
       "[2.601287492839607 +/- 9.03e-16]"
      ]
     },
     "execution_count": 111,
     "metadata": {},
     "output_type": "execute_result"
    }
   ],
   "source": [
    "d=CBF(1)+CBF(2*log(2))+CBF(3.6)/(log(z))^2; d"
   ]
  },
  {
   "cell_type": "code",
   "execution_count": 80,
   "metadata": {},
   "outputs": [
    {
     "data": {
      "text/plain": [
       "0.00141161274449502"
      ]
     },
     "execution_count": 80,
     "metadata": {},
     "output_type": "execute_result"
    }
   ],
   "source": [
    "n((0.00377-0.000008-0.00009)/2.60128)"
   ]
  },
  {
   "cell_type": "code",
   "execution_count": 103,
   "metadata": {},
   "outputs": [
    {
     "data": {
      "text/plain": [
       "[0.000192536760248637 +/- 5.33e-19]"
      ]
     },
     "execution_count": 103,
     "metadata": {},
     "output_type": "execute_result"
    }
   ],
   "source": [
    "tt2=CBF(t2/(10*z+log(4))); tt2"
   ]
  },
  {
   "cell_type": "code",
   "execution_count": 79,
   "metadata": {},
   "outputs": [
    {
     "data": {
      "text/plain": [
       "0.0000902084257198349"
      ]
     },
     "execution_count": 79,
     "metadata": {},
     "output_type": "execute_result"
    }
   ],
   "source": [
    "n(0.000009*((10*ass.mid()+log(4))/ass.mid()))"
   ]
  },
  {
   "cell_type": "code",
   "execution_count": 107,
   "metadata": {},
   "outputs": [
    {
     "data": {
      "text/plain": [
       "[9.1711088174810e-6 +/- 4.35e-20]"
      ]
     },
     "execution_count": 107,
     "metadata": {},
     "output_type": "execute_result"
    }
   ],
   "source": [
    "ratio=CBF(0.00126)*upperJ2/deno; ratio"
   ]
  },
  {
   "cell_type": "code",
   "execution_count": 109,
   "metadata": {},
   "outputs": [
    {
     "data": {
      "text/plain": [
       "[9.1923476503362e-5 +/- 6.62e-19]"
      ]
     },
     "execution_count": 109,
     "metadata": {},
     "output_type": "execute_result"
    }
   ],
   "source": [
    "tt3=CBF(ratio*(10*z+log(4))/z); tt3"
   ]
  },
  {
   "cell_type": "code",
   "execution_count": 114,
   "metadata": {},
   "outputs": [
    {
     "data": {
      "text/plain": [
       "[0.00134367926886093 +/- 7.23e-18]"
      ]
     },
     "execution_count": 114,
     "metadata": {},
     "output_type": "execute_result"
    }
   ],
   "source": [
    "CBF((t1/deno-tt2-tt3)/d)"
   ]
  },
  {
   "cell_type": "code",
   "execution_count": null,
   "metadata": {},
   "outputs": [],
   "source": []
  }
 ],
 "metadata": {
  "kernelspec": {
   "display_name": "SageMath 9.3",
   "language": "sage",
   "name": "sagemath"
  },
  "language_info": {
   "codemirror_mode": {
    "name": "ipython",
    "version": 3
   },
   "file_extension": ".py",
   "mimetype": "text/x-python",
   "name": "python",
   "nbconvert_exporter": "python",
   "pygments_lexer": "ipython3",
   "version": "3.7.10"
  }
 },
 "nbformat": 4,
 "nbformat_minor": 4
}
