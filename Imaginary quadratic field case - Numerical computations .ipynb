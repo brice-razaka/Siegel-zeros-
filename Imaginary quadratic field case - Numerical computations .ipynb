{
 "cells": [
  {
   "cell_type": "markdown",
   "metadata": {},
   "source": [
    "### Reciprocal sums of prime powers"
   ]
  },
  {
   "cell_type": "code",
   "execution_count": 9,
   "metadata": {},
   "outputs": [
    {
     "data": {
      "image/png": "[encoded data removed]",
      "text/plain": [
       "<Figure size 432x288 with 1 Axes>"
      ]
     },
     "metadata": {
      "needs_background": "light"
     },
     "output_type": "display_data"
    }
   ],
   "source": [
    "#Comparison of the lower bound of Proposition 3.2.2 with the exact error\n",
    "from ipywidgets import *\n",
    "import numpy as np \n",
    "import matplotlib.pyplot as plt\n",
    "\n",
    "def Error1(x):\n",
    "    return N(sum([1./k for k in [1..x] if is_prime_power(k)]))-log(log(x*1.))-1.034653882\n",
    "\n",
    "def Error2(x):\n",
    "    return -N(1.75/(log(x))^2)\n",
    "\n",
    "x=np.linspace(2,100,num=600)\n",
    "y1=[]\n",
    "y2=[]\n",
    "for l in x:\n",
    "    z1=Error1(l)\n",
    "    y1.append(z1)\n",
    "    z2=Error2(l)\n",
    "    y2.append(z2)\n",
    "plt.ylim(-.65,0)   \n",
    "plt.plot(x,y1,label='Exact error')\n",
    "plt.plot(x,y2,'--' ,color='red',label='-1.75 /(log x)^2')\n",
    "plt.grid()\n",
    "plt.legend()\n",
    "plt.show()"
   ]
  },
  {
   "cell_type": "code",
   "execution_count": 1,
   "metadata": {},
   "outputs": [
    {
     "name": "stdout",
     "output_type": "stream",
     "text": [
      "[0, -0.861182042479341]\n"
     ]
    }
   ],
   "source": [
    "#We check here that the upper bound of the proposition holds.\n",
    "#Below shows that \\varepsilon(p^a)<0 for all prime-powers p^a between 2 and 2278383.\n",
    "\n",
    "P=2278421\n",
    "minp=2\n",
    "B2=1.03454778250106                                       # the prime-power reciprocal constant \n",
    "Max=0\n",
    "Min=0\n",
    "SS=N(sum([1./j for j in [2..minp] if is_prime_power(j)])) # the sum of reciprocal of prime-power \n",
    "for k in [minp+1..P]:\n",
    "    EE=SS-log(log(k*1.))-B2                               # this is the quantity \\varepsilon(x) in (3.7)\n",
    "    Max=max(EE, Max)\n",
    "    if is_prime_power(k+1):\n",
    "        SS=SS+1./(k+1)\n",
    "        ee=SS-log(log((k+1)*1.))-B2-1./(k+1)\n",
    "        Min=min(ee, Min)\n",
    "    else:\n",
    "        ee=SS-log(log((k+1)*1.))-B2\n",
    "        Min=min(ee, Min)\n",
    "print([Max, Min])"
   ]
  },
  {
   "cell_type": "code",
   "execution_count": 2,
   "metadata": {},
   "outputs": [
    {
     "name": "stdout",
     "output_type": "stream",
     "text": [
      "[0.0000843723609313951, -0.628595610117759]\n"
     ]
    }
   ],
   "source": [
    "#We check that \\varepsilon(p^a)<10^{-4} for all prime-powers p^a between 2 and 2278383.\n",
    "\n",
    "B2=1.03454778250106\n",
    "minp=2\n",
    "Sum=N(sum([1./j for j in [2..minp] if is_prime_power(j)]))\n",
    "Max=0\n",
    "Min=0\n",
    "for k in [minp+1..2278383]:\n",
    "    Eps=Sum-log(log(k*1.))-B2\n",
    "    Max=max(Max,Eps) \n",
    "    Min=min(Min,Eps)\n",
    "    if is_prime_power(k):\n",
    "        Sum=Sum+1./k\n",
    "print([Max, Min])"
   ]
  },
  {
   "cell_type": "code",
   "execution_count": 2,
   "metadata": {},
   "outputs": [
    {
     "name": "stdout",
     "output_type": "stream",
     "text": [
      "Min >= 0 and Max  <= 0\n"
     ]
    }
   ],
   "source": [
    "#We check here that the lower bound of the proposition holds.\n",
    "#Defining constants\n",
    "B2_up=1.0346539   # B2 rounded up\n",
    "B2_down=1.03465388 # B2 rounded down\n",
    "X=3000000\n",
    "Max=0\n",
    "Min=0\n",
    "\n",
    "# the actual sum\n",
    "S=0 \n",
    "for k in range(2,X+1):\n",
    "    if is_prime_power(k):\n",
    "        m1=S-log(log(k*1.))-B2_up+1.75/(log(k*1.))^2 # use value just before prime power k\n",
    "        Min=min(m1,Min)\n",
    "        S=S+1./k\n",
    "        m2=S-log(log(k*1.))-B2_down                  # use value at prime power k  \n",
    "        Max=max(m2,Max)\n",
    "print(f\"Min >= {Min} and Max  <= {Max}\") # Objectives Min >=0 and Max <=0 "
   ]
  },
  {
   "cell_type": "markdown",
   "metadata": {},
   "source": [
    "### A lower estimate of the integral $I$\n",
    "\n",
    "Let $\\zeta_{Q(\\sqrt{-d})}(s)$ be the Dedekind zeta function of the quadratic fields $Q(\\sqrt{-d})$. We define the integral $I$ as follows\n",
    "$$\n",
    "I = \\frac{1}{2i\\pi} \\int_{2-i\\infty}^{2+i\\infty}\\zeta_{-d}(s+\\beta)\\frac{x^s}{s(s+2)(s+3)}ds.\n",
    "$$\n",
    "By shifting the path integral to $\\textrm{Re}(s)=-\\beta$, we obtain\n",
    "$$\n",
    "I= \\frac{L(1,\\chi)\\, x^{1-\\beta}}{(1-\\beta)(3-\\beta)(4-\\beta)} + J,\n",
    "$$\n",
    "where \n",
    "$$\n",
    "J=\\frac{1}{2i\\pi}\\int_{-\\beta-i\\infty}^{-\\beta+i\\infty}\\zeta(s+\\beta)L(s+\\beta,\\chi)\\frac{x^s}{s(s+2)(s+3)}ds.\n",
    "$$\n",
    "It is clear that in order to estimate $I$, we need to take care of the integral $J$. This is done by means of Lemma 3.4.4. Using the assumption on the quantity $1-\\beta$, we get"
   ]
  },
  {
   "cell_type": "code",
   "execution_count": 2,
   "metadata": {},
   "outputs": [
    {
     "name": "stdout",
     "output_type": "stream",
     "text": [
      "beta > 0.999651569112544\n",
      "beta^2 > 0.999303259629171\n"
     ]
    }
   ],
   "source": [
    "assum=N(1-6.035/sqrt(300000000))\n",
    "assum2=N(1-6.035/sqrt(300000000))^2\n",
    "print('beta >', assum)\n",
    "print('beta^2 >', assum2)"
   ]
  },
  {
   "cell_type": "markdown",
   "metadata": {},
   "source": [
    "Hence, we can assume that $\\beta^2>0.999$.\n",
    "\n",
    "We recall the following bound of the integral $J$:\n",
    "\\begin{equation}\n",
    "|J|\\leq \\frac{x^{-\\beta}}{2\\pi}\\int_{-\\infty}^{\\infty}\\frac{|\\zeta(it)L(it,\\chi)|}{\\sqrt{(0.999+t^2)(1+t^2)(4+t^2)}}dt.\n",
    "\\end{equation}\n",
    "\n",
    "Here is the place where we utilize results on $|\\zeta(1+it)|$ and $|L(1+it,\\chi)|$ given by Patel and Dudek respectively. To estimate $J$ as above, we write \n",
    "$$\n",
    "|J|\\leq \\frac{x^{-\\beta}}{2\\pi}\\sqrt{d}\\left((J_1+J_3)\\log d+J_3+J_4\\right),\n",
    "$$\n",
    "so that we need to separetely evaluate the integrals $J_i$'s."
   ]
  },
  {
   "cell_type": "markdown",
   "metadata": {},
   "source": [
    "$$\n",
    "J_1=\\frac{1}{2\\pi}\\int^{-3}_{3}\\frac{|t\\zeta(1-it)|}{\\sqrt{(0.999+t^2)(1+t^2)(4+t^2)}}dt\n",
    "$$"
   ]
  },
  {
   "cell_type": "code",
   "execution_count": 13,
   "metadata": {},
   "outputs": [
    {
     "data": {
      "text/plain": [
       "0.196922913137095"
      ]
     },
     "execution_count": 13,
     "metadata": {},
     "output_type": "execute_result"
    }
   ],
   "source": [
    "#By using the rounded-down bound of \\beta^2 at the third digit, we have\n",
    "z=0.999\n",
    "\n",
    "J1=N(integral(abs(x*zeta(1-I*x))/sqrt((z+x^2)*(1+x^2)*(4+x^2)), x,-3,3)/(2*pi))\n",
    "J1"
   ]
  },
  {
   "cell_type": "markdown",
   "metadata": {},
   "source": [
    "$$\n",
    "J_2=\\frac{1}{2\\pi}\\int^{-3}_{3}\\frac{|t\\zeta(1-it)|\\log(e(|t|+\\tfrac{14}{5}))}{\\sqrt{(0.999+t^2)(1+t^2)(4+t^2)}}dt\n",
    "$$"
   ]
  },
  {
   "cell_type": "code",
   "execution_count": 9,
   "metadata": {},
   "outputs": [
    {
     "data": {
      "text/plain": [
       "0.452039375676943"
      ]
     },
     "execution_count": 9,
     "metadata": {},
     "output_type": "execute_result"
    }
   ],
   "source": [
    "J2=N(integral(abs(x*zeta(1-I*x)*log(e*(abs(x)+14/5)))/sqrt((z+x^2)*(1+x^2)*(4+x^2)), x,-3,3)/(2*pi))\n",
    "J2"
   ]
  },
  {
   "cell_type": "markdown",
   "metadata": {},
   "source": [
    "$$\n",
    "J_3=\\frac{0.8}{2\\pi}\\int_{3}^{\\infty}\\frac{t\\log(t)}{\\sqrt{(0.999+t^2)(1+t^2)(4+t^2)}}dt\n",
    "$$"
   ]
  },
  {
   "cell_type": "code",
   "execution_count": 10,
   "metadata": {},
   "outputs": [
    {
     "data": {
      "text/plain": [
       "0.208819965381526"
      ]
     },
     "execution_count": 10,
     "metadata": {},
     "output_type": "execute_result"
    }
   ],
   "source": [
    "J3=N(integral(x*log(x)/sqrt((z+x^2)*(1+x^2)*(4+x^2)), x,3,Infinity)*(0.8/sqrt(2*pi)))\n",
    "J3"
   ]
  },
  {
   "cell_type": "markdown",
   "metadata": {},
   "source": [
    "$$\n",
    "J_4=\\frac{0.8}{2\\pi}\\int_{3}^{\\infty}\\frac{t\\log(t)\\log\\left(e(t+\\tfrac{14}{5})\\right)}{\\sqrt{(0.999+t^2)(1+t^2)(4+t^2)}}dt\n",
    "$$"
   ]
  },
  {
   "cell_type": "code",
   "execution_count": 11,
   "metadata": {},
   "outputs": [
    {
     "data": {
      "text/plain": [
       "0.818136240470635"
      ]
     },
     "execution_count": 11,
     "metadata": {},
     "output_type": "execute_result"
    }
   ],
   "source": [
    "J4=N(integral((x*log(x)*log(e*(x+14/5)))/sqrt((z+x^2)*(1+x^2)*(4+x^2)), x,3,Infinity)*(0.8/sqrt(2*pi)))\n",
    "J4"
   ]
  },
  {
   "cell_type": "code",
   "execution_count": 19,
   "metadata": {},
   "outputs": [
    {
     "name": "stdout",
     "output_type": "stream",
     "text": [
      "J1+J3 is equal to 0.406000000000000\n",
      "J2+J4 is equal to 1.27200000000000\n"
     ]
    }
   ],
   "source": [
    "#After rounding-up at the third digit each J_i, we have\n",
    "J13=0.197+0.209\n",
    "J24=0.453+0.819\n",
    "print('J1+J3 is equal to', J13)\n",
    "print('J2+J4 is equal to', J24)"
   ]
  },
  {
   "cell_type": "code",
   "execution_count": 21,
   "metadata": {},
   "outputs": [
    {
     "data": {
      "text/plain": [
       "0.0749884448026797"
      ]
     },
     "execution_count": 21,
     "metadata": {},
     "output_type": "execute_result"
    }
   ],
   "source": [
    "upJ=N((J13+J24/log(300000000))/(2*pi)); upJ"
   ]
  },
  {
   "cell_type": "markdown",
   "metadata": {},
   "source": [
    "### Finding the upper bound\n",
    "\n",
    "$\\textbf{Case 1}$"
   ]
  },
  {
   "cell_type": "code",
   "execution_count": 3,
   "metadata": {},
   "outputs": [
    {
     "data": {
      "text/plain": [
       "0.523446777485857"
      ]
     },
     "execution_count": 3,
     "metadata": {},
     "output_type": "execute_result"
    }
   ],
   "source": [
    "pb=N(pi/((3-assum)*(4-assum))); pb"
   ]
  },
  {
   "cell_type": "code",
   "execution_count": 70,
   "metadata": {},
   "outputs": [
    {
     "data": {
      "text/plain": [
       "21.0023538391792"
      ]
     },
     "execution_count": 70,
     "metadata": {},
     "output_type": "execute_result"
    }
   ],
   "source": [
    "t_1=N((396*pb)/pi^2); t_1"
   ]
  },
  {
   "cell_type": "code",
   "execution_count": 71,
   "metadata": {},
   "outputs": [
    {
     "data": {
      "text/plain": [
       "0.359618976147739"
      ]
     },
     "execution_count": 71,
     "metadata": {},
     "output_type": "execute_result"
    }
   ],
   "source": [
    "t_2=N((396*0.150*6.035)/(pi^2*101)); t_2"
   ]
  },
  {
   "cell_type": "markdown",
   "metadata": {},
   "source": [
    " $\\textbf{Case 2}$"
   ]
  },
  {
   "cell_type": "code",
   "execution_count": 2,
   "metadata": {},
   "outputs": [],
   "source": [
    "#defining the function k_0\n",
    "K0(logd,ld)=ceil(.5*(logd-log(4.))/log(ld*1.))\n",
    "\n",
    "#defining the sigma function\n",
    "def Sigma(ld):\n",
    "    return N(2*sum([1./k for k in [1..ld] if is_prime_power(k)]))\n",
    "\n",
    "#first error in Er(d,l(d))\n",
    "def Err0(ld):\n",
    "    return N(3.6/log(ld)^2)"
   ]
  },
  {
   "cell_type": "code",
   "execution_count": 3,
   "metadata": {},
   "outputs": [
    {
     "name": "stdout",
     "output_type": "stream",
     "text": [
      "Sigma= 3.78526751026751 exposigma= 10.2894238890166\n"
     ]
    }
   ],
   "source": [
    "print('Sigma=', Sigma(16),'exposigma=',N(e*Sigma(16)))"
   ]
  },
  {
   "cell_type": "code",
   "execution_count": 4,
   "metadata": {},
   "outputs": [
    {
     "data": {
      "text/plain": [
       "0.468308020726262"
      ]
     },
     "execution_count": 4,
     "metadata": {},
     "output_type": "execute_result"
    }
   ],
   "source": [
    "N(Err0(16))"
   ]
  },
  {
   "cell_type": "code",
   "execution_count": 37,
   "metadata": {},
   "outputs": [
    {
     "data": {
      "text/plain": [
       "2.85460238184615"
      ]
     },
     "execution_count": 37,
     "metadata": {},
     "output_type": "execute_result"
    }
   ],
   "source": [
    "N(1+2*log(2))+Err0(16)"
   ]
  },
  {
   "cell_type": "code",
   "execution_count": 41,
   "metadata": {},
   "outputs": [
    {
     "data": {
      "text/plain": [
       "0.0434491592516412"
      ]
     },
     "execution_count": 41,
     "metadata": {},
     "output_type": "execute_result"
    }
   ],
   "source": [
    "N(11/(101*sqrt(2*pi)))"
   ]
  },
  {
   "cell_type": "code",
   "execution_count": 42,
   "metadata": {},
   "outputs": [],
   "source": [
    "def plot_case2(t):\n",
    "    k=K0(t,16)\n",
    "    D2=0.044*(1+k)/(1+k-3.786)*(10.29/k)^k/sqrt(k)\n",
    "    return N((21.003-0.023*t)/(2.855+D2))"
   ]
  },
  {
   "cell_type": "code",
   "execution_count": 90,
   "metadata": {},
   "outputs": [
    {
     "data": {
      "image/png": "[encoded data removed]",
      "text/plain": [
       "<Figure size 432x288 with 1 Axes>"
      ]
     },
     "metadata": {
      "needs_background": "light"
     },
     "output_type": "display_data"
    }
   ],
   "source": [
    "import numpy as np \n",
    "import matplotlib.pyplot as plt\n",
    "\n",
    "Num=1000\n",
    "x=np.linspace(35,160,num=Num)\n",
    "y=[]\n",
    "for t in x:\n",
    "    z=plot_case2(t)\n",
    "    y.append(z)\n",
    "w=6.035*np.ones(Num)\n",
    "plt.plot(x,y)\n",
    "plt.plot(x,w,'-',color='red')\n",
    "plt.ylabel('terms in RHD')\n",
    "plt.xlabel('log d')\n",
    "plt.grid()\n",
    "plt.show()"
   ]
  },
  {
   "cell_type": "markdown",
   "metadata": {},
   "source": [
    "$\\textbf{Case 3}$"
   ]
  },
  {
   "cell_type": "code",
   "execution_count": 44,
   "metadata": {},
   "outputs": [
    {
     "data": {
      "text/plain": [
       "39.6534264097200"
      ]
     },
     "execution_count": 44,
     "metadata": {},
     "output_type": "execute_result"
    }
   ],
   "source": [
    "lowert=N(.25*(160-log(4.))); lowert"
   ]
  },
  {
   "cell_type": "code",
   "execution_count": 59,
   "metadata": {},
   "outputs": [
    {
     "data": {
      "text/plain": [
       "21.5497366147680"
      ]
     },
     "execution_count": 59,
     "metadata": {},
     "output_type": "execute_result"
    }
   ],
   "source": [
    "k0=N((2*lowert)/log(lowert)); k0"
   ]
  },
  {
   "cell_type": "code",
   "execution_count": 50,
   "metadata": {},
   "outputs": [
    {
     "data": {
      "text/plain": [
       "2.06950000000000"
      ]
     },
     "execution_count": 50,
     "metadata": {},
     "output_type": "execute_result"
    }
   ],
   "source": [
    "err=N(2*(1.03465+min(0.2/(log(39))^3,0.0001))); err"
   ]
  },
  {
   "cell_type": "code",
   "execution_count": 51,
   "metadata": {},
   "outputs": [
    {
     "data": {
      "image/png": "[encoded data removed]",
      "text/plain": [
       "Graphics object consisting of 1 graphics primitive"
      ]
     },
     "execution_count": 51,
     "metadata": {},
     "output_type": "execute_result"
    }
   ],
   "source": [
    "var('t')\n",
    "plot(log(t)*(log(log(t))+1.034)/t, (t, 39, 160), figsize=[5,3])"
   ]
  },
  {
   "cell_type": "code",
   "execution_count": 54,
   "metadata": {},
   "outputs": [
    {
     "data": {
      "text/plain": [
       "0.589820364966413"
      ]
     },
     "execution_count": 54,
     "metadata": {},
     "output_type": "execute_result"
    }
   ],
   "source": [
    "upperesk0=N((e*log(lowert)*(2*log(log(lowert))+2.07))/(2*lowert)); upperesk0"
   ]
  },
  {
   "cell_type": "code",
   "execution_count": 57,
   "metadata": {},
   "outputs": [
    {
     "data": {
      "text/plain": [
       "1.27711113171791"
      ]
     },
     "execution_count": 57,
     "metadata": {},
     "output_type": "execute_result"
    }
   ],
   "source": [
    "upks=N(1/(1-(upperesk0/e))); upks"
   ]
  },
  {
   "cell_type": "code",
   "execution_count": 65,
   "metadata": {},
   "outputs": [
    {
     "data": {
      "text/plain": [
       "1.06864516444639e-7"
      ]
     },
     "execution_count": 65,
     "metadata": {},
     "output_type": "execute_result"
    }
   ],
   "source": [
    "N((11/101)*(upks/sqrt(2*pi*ceil(k0))*upperesk0^ceil(k0)))"
   ]
  },
  {
   "cell_type": "code",
   "execution_count": 67,
   "metadata": {},
   "outputs": [
    {
     "data": {
      "text/plain": [
       "2.65210049703038"
      ]
     },
     "execution_count": 67,
     "metadata": {},
     "output_type": "execute_result"
    }
   ],
   "source": [
    "denom=N(1+2*log(2)+3.6/(log(lowert))^2); denom"
   ]
  },
  {
   "cell_type": "code",
   "execution_count": 74,
   "metadata": {},
   "outputs": [
    {
     "name": "stdout",
     "output_type": "stream",
     "text": [
      "21.0023538391792 and 0.359618976147739\n"
     ]
    }
   ],
   "source": [
    "print(t_1,'and',t_2)"
   ]
  },
  {
   "cell_type": "code",
   "execution_count": 75,
   "metadata": {},
   "outputs": [
    {
     "name": "stdout",
     "output_type": "stream",
     "text": [
      "7.91913951326357 and 0.135597793730069\n"
     ]
    }
   ],
   "source": [
    "print(N(t_1/denom),'and',N(t_2/denom))"
   ]
  },
  {
   "cell_type": "code",
   "execution_count": 78,
   "metadata": {},
   "outputs": [
    {
     "data": {
      "text/plain": [
       "7.34178807168699"
      ]
     },
     "execution_count": 78,
     "metadata": {},
     "output_type": "execute_result"
    }
   ],
   "source": [
    "N(t_1/denom-((t_2/denom)*4*lowert+log(4))/lowert)"
   ]
  },
  {
   "cell_type": "code",
   "execution_count": 81,
   "metadata": {},
   "outputs": [
    {
     "data": {
      "text/plain": [
       "7.36917232139581"
      ]
     },
     "execution_count": 81,
     "metadata": {},
     "output_type": "execute_result"
    }
   ],
   "source": [
    "N((21.003/2.653)-(0.36/2.653)*((4*39.653+log(4))/39.653))"
   ]
  }
 ],
 "metadata": {
  "kernelspec": {
   "display_name": "SageMath 9.3",
   "language": "sage",
   "name": "sagemath"
  },
  "language_info": {
   "codemirror_mode": {
    "name": "ipython",
    "version": 3
   },
   "file_extension": ".py",
   "mimetype": "text/x-python",
   "name": "python",
   "nbconvert_exporter": "python",
   "pygments_lexer": "ipython3",
   "version": "3.7.10"
  }
 },
 "nbformat": 4,
 "nbformat_minor": 2
}
